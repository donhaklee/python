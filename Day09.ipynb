{
  "nbformat": 4,
  "nbformat_minor": 0,
  "metadata": {
    "colab": {
      "provenance": [],
      "include_colab_link": true
    },
    "kernelspec": {
      "name": "python3",
      "display_name": "Python 3"
    },
    "language_info": {
      "name": "python"
    }
  },
  "cells": [
    {
      "cell_type": "markdown",
      "metadata": {
        "id": "view-in-github",
        "colab_type": "text"
      },
      "source": [
        "<a href=\"https://colab.research.google.com/github/donhaklee/python/blob/main/Day09.ipynb\" target=\"_parent\"><img src=\"https://colab.research.google.com/assets/colab-badge.svg\" alt=\"Open In Colab\"/></a>"
      ]
    },
    {
      "cell_type": "code",
      "execution_count": null,
      "metadata": {
        "id": "oBzFbY5Ue0tA"
      },
      "outputs": [],
      "source": [
        "# 함수(Function)\n",
        "# 함수(function)은 일정한 작업을 수행하는 코드블럭으로 \n",
        "# 보통 (반복적으로 계속 사용되는 코드)들을 함수(개체)로 정의하여 사용하게 된다. \n",
        "\n",
        "# 파이썬에서 함수는 def 키워드를 사용하여 정의되며, 다음과 같은 문법을 갖는다. \n",
        "# 여기서 입력 파라미터나 리턴값은 구현하는 내용에 따라 있을 수도 있고, \n",
        "# 없을 수도 있다.\n",
        "# 프로그램에서 사용할 기능을 미리 정의해서 구현한 것\n",
        "# 특정 기능을 수행하기 위한 코드들의 집합\n",
        "# 함수를 사용하면, 코드의 (재 사용성과 유지 보수)가 쉬워진다.\n",
        "\n",
        "# 함수 사용에 있어서 설명이 필요한 경우에 내부에 주석을 사용하여 주석을 달아 놓는다. \n",
        "\n",
        "# 함수를 만들때에는 함수의 기능을 바로 알수 있는 이름으로 정의\n",
        "# 미리 만들어 놓은 함수를 호출하고자 할 때는, 함수이름()으로 호출하여 사용함.\n",
        "\n",
        "# 정의 생성한 함수에 반환값이 있는 경우에는 return를 사용\n",
        "# \"return 반환값\" 을 통해서 처리함. return은 함수를 종료하고 값을 반환하게 됨. \n",
        "# 함수에 반환값이 있을 수도 있고, 없을 수도로 있음.\n",
        "# 함수에 필요하면 인자값을 전달할 수 있음.\n",
        "# 전달된 인자값은 함수에서 변수 처리하여 종속문장에서 실행 가능\n",
        "\n",
        "# 사용자 정의 함수\n",
        "# 코드를 재활용\n",
        "# 함수 선언\n",
        "# 인수, 인자(argument)\n",
        "# 매개변수(parameter)\n",
        "# 리턴값\n",
        "# 키워드 인수, 디폴트 인수, 사전 인수\n",
        "# 가변 인수\n",
        "# 람다 함수\n",
        "\n",
        "# f(x)=5x+3\n",
        "# 3(인수) ==> 5x(매개변수)+3 ==> 18(리턴값)\n",
        "\n",
        "# 함수 종류\n",
        "# 내장 함수(Built-in)\n",
        "# Python 프로그램에 기본적으로 내장되어 사용하는 함수\n",
        "\n",
        "# 기본 라이브러리 함수\n",
        "# Python 프로그램에 내장되어 있지는 않지만, import 또는\n",
        "# from ... import ... 구문을 통해서 사용 할 수 있는 함수\n",
        "\n",
        "# 사용자 정의 함수\n",
        "# 사용자가 또는 프로그래머가 직접 만들어서 사용하는 함수\n",
        "# 사용자 정의 함수도 import 또는 from ... import ... \n",
        "# 구문을 통해서 사용하게 만들 수 있다.\n",
        "\n",
        "# 파라미터 전달방식\n",
        "# 파이썬 함수에서 입력 파라미터는 Pass by Assignment에 의해 전달된다. \n",
        "# 즉, 호출자(Caller)는 입력 파라미터 객체에 대해 레퍼런스를 생성하여 \n",
        "# 레퍼런스 값을 복사하여 전달한다. 또한 전달되는 입력파라미터는 \n",
        "# Mutable일 수도 있고, Immutable일 수도 있으므로 각 경우에 따라 \n",
        "# 다른 결과가 일어난다.\n",
        "# 만약 입력파라미터가 Mutable 객체이고, 함수가 그 함수 내에서 해당 객체의 내용을\n",
        "#  변경하면, 이러한 변경 사항은 호출자(caller)에게 반영된다. \n",
        "# 하지만, 함수 내에서 새로운 객체의 레퍼런스를 입력파라미터에 할당한다면,\n",
        "#  레퍼런스 자체는 복사하여 전달되었으므로, 호출자에서는 새로운 레퍼런스에 \n",
        "# 대해 알지 못하게 되고, 호출자 객체는 아무런 변화가 없게 된다.\n",
        "# 만약 입력파라미터가 Immutable 객체이면, 입력파라미터의 값이 \n",
        "# 함수 내에서 변경될 수 없으며, 함수 내에서 새로운 객체의 레퍼런스를 \n",
        "# 입력파라미터에 할당되어도 함수 외부(Caller)의 값은 변하지 않는다.\n",
        "\n",
        "함수 생성 방법\n",
        "def 함수이름([인자, ...]):\n",
        "     실행 코드 1\n",
        "     실행 코드 2\n",
        "     ....\n",
        "\n",
        "\n",
        "인자(argument) 없는 함수\n",
        "def noArg():\n",
        "    print('인자 없는 함수')\n",
        "noArg() # 함수 호출\n",
        "\n",
        "\n",
        "인자(argument) 있는 함수\n",
        "def existArg(x, y):\n",
        "    print('x : {}, y : {}'.format(x, y))\n",
        "\n",
        "existArg(1, 2)\n",
        "# existArg(1)         # 인자가 적어서 Error\n",
        "# existArg(1, 2, 3)   # 인자가 많아서 Error\n",
        "\n",
        "함수내에서 i, mylist 값 변경\n",
        "def fun1(i,mylist):\n",
        "    i+=1\n",
        "    mylist.append(4)\n",
        " \n",
        "k=10 # k는 int (immutable)\n",
        "m=[1,2,3]  # m은 리스트 (mutable)\n",
        "fun1(k,m)# 함수 호출\n",
        "print(k,m)# 호출자 값 체크\n",
        "출력: 10 [1, 2, 3, 0]\n",
        "\n",
        "# 위의 예제에서 함수 fun1()는 하나의 정수(i)와 하나의 리스트(mylist)를 입력받아, \n",
        "# 함수 내에서 그 값들을 변경한다. \n",
        "# 정수는 Immutable 타입이므로 함수 내에서 변경된 것이 호출자에 반영되지 않으며, \n",
        "# 리스트는 Mutable 타입이므로 추가된 요소가 호출자에서도 반영된다.\n",
        "\n",
        "# Default Parameter\n",
        "# 함수에 전달되는 입력 파라미터 중 호출자가 전달하지 않으면 \n",
        "# 디폴트로 지정된 값을 사용하게 할 수 있는데, \n",
        "# 이를 디폴트 파라미터 혹은 Optional 파라미터라 부른다. \n",
        "# 아래 예제에서 factor는 디폴트 파라미터로서 별도로 전달되지 않으면, \n",
        "# 그 값이 1로 설정된다.\n",
        "\n",
        "# 예제 1\n",
        "def calc(i, j, factor = 1):\n",
        "    return i * j * factor\n",
        " \n",
        "result = calc(10, 20)\n",
        "print(result)\n",
        " \n",
        "# Named Parameter\n",
        "# 함수를 호출할 때 보통 함수에 정의된 대로 입력파라미터를 순서대로 전달한다. \n",
        "# 이러한 순서의 의한 전달 방식 외에 또 다른 호출 방식으로 \n",
        "# \"파라미터명=파라미터값\" 과 같은 형식으로 파라미터를 전달할 수도 있는데, \n",
        "# 이를 Named Parameter라 부른다. \n",
        "# Named Parameter를 사용하면 어떤 값이 어떤 파라미터로 전달되는지 쉽게 \n",
        "# 파악할 수 있는 장점이 있다.\n",
        "# 예제 2\n",
        "def test(x, y=2, z=3):\n",
        "    print(x, y, z)\n",
        " \n",
        "test(1, z=6)    # 1 2 6 키워드 인자 호출\n",
        "test(z=5, y=2, x=3) # 3 2 5\n",
        "\n",
        "def report(name, age, score):\n",
        "    print(name, score)\n",
        " \n",
        "report(age=10, name=\"Kim\", score=80) # Kim 80\n",
        "\n",
        "\n",
        "# 가변길이 파라미터\n",
        "# 함수의 입력파라미터의 갯수를 미리 알 수 없거나, \n",
        "# 0부터 N개의 파라미터를 받아들이도록 하고 싶다면, \n",
        "# 가변길이 파라미터를 사용할 수 있다. \n",
        "# 가변길이 파라미터는 파라미터명 앞에 * 를 붙여 가변길이임을 표시한다. \n",
        "# 아래 예제에서 *numbers는 가변길이 파라미터이므로, total()을 호출할 때, \n",
        "# 임의의 숫자의 파라미터들을 지정할 수 있다.\n",
        "\n",
        "# 예제 1\n",
        "def total(*numbers):\n",
        "    tot = 0\n",
        "    for n in numbers:\n",
        "        tot += n\n",
        "    return tot\n",
        " \n",
        "t = total(1,2)\n",
        "print(t)\n",
        "t = total(1,5,2,6)\n",
        "print(t)\n",
        "\n",
        "# 예제 2\n",
        "def test(*x):\n",
        "    print(x)\n",
        "\n",
        "test()\n",
        "test(1)\n",
        "test(1, 2, 3)\n",
        "test(1, 2, 3, 4, 5, 6, 7, 8, 9)\n",
        "\n",
        "\n",
        "# 리턴값\n",
        "# 함수는 기본적으로 함수가 실행된 뒤 그 안에 사용하고 있던 변수는 \n",
        "# Memory 상에서 삭제가 되기 때문에 함수안에 사용했던 값에 접근을 위해서는 \n",
        "# 함수가 종료 되기 전 사용하고자 하는 값을 반환할 수 있게 만들어야 한다.\n",
        "\n",
        "# 함수로부터 호출자로 리턴하기 위해서는 return 문을 사용한다. \n",
        "# return문은 단독으로 쓰이면 아무 값도 호출자에게 전달하지 않으며, \n",
        "# \"return 리턴값\" 처럼 쓰이면 값을 호출자에게 전달한다. \n",
        "# 함수에서 리턴되는 값은 하나 이상일 수 있는데, \n",
        "# 필요한 수만큼 return 키워드 다음에 콤마로 구분하여 적는다. \n",
        "\n",
        "# 예를 들어, return a,b,c 는 3개의 값을 리턴한다. \n",
        "하지만, 기술적으로 좀 더 깊이 설명하면, \n",
        "이는 (a,b,c) 세개의 값을 포함하는 tuple 하나를 리턴하는 것으로 \n",
        "함수는 항상 하나의 리턴값을 전달한다고 볼 수 있다.\n",
        "\n",
        "        tot += n\n",
        "    return count, tot\n",
        "    # print(count, tot)\n",
        " \n",
        "calc(1,5,2,6) # (4, 14) 튜플로 반환\n",
        " \n",
        " \n",
        "def calc(*numbers):\n",
        "    count = 0\n",
        "    tot = 0\n",
        "    for n in numbers:\n",
        "        count += 1\n",
        "        tot += n\n",
        "    # return count, tot\n",
        "    print(count, tot)\n",
        " \n",
        "calc(1,5,2,6) # 4 14 프린트 함수로 반환\n",
        " \n",
        " \n",
        " \n",
        "def calc(*numbers):\n",
        "    count = 0\n",
        "    tot = 0\n",
        "    for n in numbers:\n",
        "        count += 1\n",
        "        tot += n\n",
        "    return count, tot # return 은 값을 반환 후 함수 종료\n",
        " \n",
        "calc(1,5,2,6) # (4, 14)\n",
        "count, total = calc(1,5,2,6)\n",
        "print(f'Count is {count}, Total is {total}') # Count is 4, Total is 14\n",
        " \n",
        "\n",
        "리턴을 사용하는 직관적인 이유는 재사용성\n",
        "def plus(p1,p2):\n",
        "    pv=p1+p2\n",
        "    return pv\n",
        " \n",
        "def minus(p1,p2):\n",
        "    mv=p1-p2\n",
        "    return mv\n",
        " \n",
        "def multiple(p1,p2):\n",
        "    muv=p1*p2\n",
        "    return muv\n",
        " \n",
        " \n",
        "def divide(p1,p2):\n",
        "    dv=p1//p2\n",
        "    return dv\n",
        " \n",
        "pr=plus(10,5)\n",
        "mr=minus(10,5)\n",
        "mur=multiple(10,5)\n",
        "dr=divide(10,5)\n",
        "print(pr,mr,mur,dr)\n",
        " \n",
        "# 10*5를 10//5로 나누어라\n",
        "# 이와같이 다른 연산에 재사용이 가능하다.\n",
        "ar1=multiple(10,5)/divide(10,5)\n",
        "ar2=divide(multiple(10,5),divide(10,5))\n",
        "print(ar1,ar2)\n",
        "\n",
        "\n",
        "# 함수의 문서화\n",
        "def test():\n",
        "    '''함수에 대한 설명\n",
        "    필수 인자\n",
        "        arg1 : ....\n",
        "    옵션 인자\n",
        "        opt1 : ....\n",
        "    반환 자료\n",
        "        문자열로 값을 반환\n",
        "    '''\n",
        "    print('함수 실행')\n",
        "\n",
        "\n",
        "# 익명 함수 (lambda - 람다)\n",
        "# 함수의 이름이 없다. 간단하게 함수를 생성하고 쓰기위해 사용하는 함수\n",
        "# 일시적, 임시적으로 사용하게 된다.\n",
        "1)\n",
        "a = lambda x,y:x + y\n",
        "print(a(2, 3))\n",
        "\n",
        "lst = [5, '7', 8, '4', 3, 2]\n",
        "lst.sort(key=lambda x: str(x))\n",
        "print(lst)\n",
        "\n",
        "lst = [('a', 6), ('b', 2), ('c', 9), ('d', 5)]\n",
        "mx = max(lst, key=lambda x: x[1])\n",
        "mn = min(lst, key=lambda x: x[1])\n",
        "print(mx, mn)\n",
        "\n",
        "2)\n",
        "a = lambda x: print(x)\n",
        "a(1)\n",
        "\n",
        "a = lambda x, y: print(x + y)\n",
        "a(1, 2)\n",
        "\n",
        "\n",
        "a = [1, 2, '3', 4, '5', 6, '7', '8']\n",
        "a.sort(reverse=True, key=lambda x: str(x))\n",
        "print(a)\n",
        "\n",
        "\n",
        "# Scope(스코프)\n",
        "# 변수의 사용 범위를 나타내는 용어\n",
        "# Local > Global > Built-in\n",
        "\n",
        "# global 변수\n",
        "# 함수 밖에서 생성하여 사용하는 변수\n",
        "# 함수 안에서도 접근이 가능하다.\n",
        "\n",
        "# local 변수\n",
        "# 함수 안에서 생성하여 사용하는 변수\n",
        "# 함수 밖에서 접근 할 수 없다.\n",
        "\n",
        "# Global변수를 함수에서 사용하는 예제\n",
        "a = 10\n",
        "\n",
        "def func():\n",
        "    print(a)\n",
        "\n",
        "func()\n",
        "\n",
        "# Local변수를 함수에서 사용하는 예제\n",
        "def func():\n",
        "    b = 10\n",
        "    print(b)\n",
        "\n",
        "func()\n",
        "print(b)\n",
        "\n",
        "# 코드 해보기\n",
        "a = 10\n",
        "def func():\n",
        "    global a    # 전역 변수를 사용하기 위해 선언\n",
        "    a = 20\n",
        "    print(a)\n",
        "func()\n",
        "print(a)\n",
        "\n",
        "# 덧셈 함수 \n",
        "def add(a, b):    \n",
        "    c = a + b\n",
        "    print(locals())\n",
        "    return c\n",
        "\n",
        "r = add(10,20)\n",
        "print(r)\n",
        "print(globals())\n",
        "\n",
        "…\n",
        "# LEGB Rule: Local, Enclosing, Global, Built-in\n",
        "x = 'Global x'\n",
        "\n",
        "def test():\n",
        "    #global x\n",
        "    y = 'Local y'\n",
        "    x = 'Local x'\n",
        "    print(x +', '+ y) #prints 'Local x' and  'Local y'\n"
      ]
    },
    {
      "cell_type": "code",
      "source": [
        "def calc(i, j, factor = 1):\n",
        "  return i * j * factor\n",
        " \n",
        "result = calc(10, 20)\n",
        "print(result)"
      ],
      "metadata": {
        "id": "bX_eHsPZps0-"
      },
      "execution_count": null,
      "outputs": []
    },
    {
      "cell_type": "code",
      "source": [
        "def report(name, age, score):\n",
        "    print(name, score)\n",
        " \n",
        "report(age=10, name=\"Kim\", score=80) # Kim 80"
      ],
      "metadata": {
        "colab": {
          "base_uri": "https://localhost:8080/"
        },
        "id": "y1RKx5-zq1L0",
        "outputId": "38b4dace-6bb5-4d30-8beb-6c890c59097d"
      },
      "execution_count": null,
      "outputs": [
        {
          "output_type": "stream",
          "name": "stdout",
          "text": [
            "Kim 80\n"
          ]
        }
      ]
    },
    {
      "cell_type": "code",
      "source": [
        "def total(*numbers):\n",
        "    tot = 0\n",
        "    for n in numbers:\n",
        "        tot += n\n",
        "    return tot\n",
        " \n",
        "t = total(1,2)\n",
        "print(t)\n",
        "\n",
        "t = total(1,5,2,6)\n",
        "print(t)"
      ],
      "metadata": {
        "colab": {
          "base_uri": "https://localhost:8080/"
        },
        "id": "q621y1FHrfdU",
        "outputId": "48faf053-38b7-419b-b45e-9d03982e1e62"
      },
      "execution_count": null,
      "outputs": [
        {
          "output_type": "stream",
          "name": "stdout",
          "text": [
            "3\n",
            "14\n"
          ]
        }
      ]
    },
    {
      "cell_type": "code",
      "source": [
        "def test(*x):\n",
        "    print(x)\n",
        "\n",
        "test()\n",
        "test(1)\n",
        "test(1, 2, 3)\n",
        "test(1, 2, 3, 4, 5, 6, 7, 8, 9)"
      ],
      "metadata": {
        "colab": {
          "base_uri": "https://localhost:8080/"
        },
        "id": "SL0jwzkDrvzl",
        "outputId": "415215ab-36d3-4f3d-c48b-c61654ba2e8a"
      },
      "execution_count": null,
      "outputs": [
        {
          "output_type": "stream",
          "name": "stdout",
          "text": [
            "()\n",
            "(1,)\n",
            "(1, 2, 3)\n",
            "(1, 2, 3, 4, 5, 6, 7, 8, 9)\n"
          ]
        }
      ]
    },
    {
      "cell_type": "code",
      "source": [
        "def calc(*numbers):\n",
        "    count = 0\n",
        "    tot = 0\n",
        "    for n in numbers:\n",
        "        count += 1\n",
        "        tot += n\n",
        "    return count, tot\n",
        "    # print(count, tot)\n",
        "\n",
        "calc(1,5,2,6)"
      ],
      "metadata": {
        "id": "58YxIgY8xS77"
      },
      "execution_count": null,
      "outputs": []
    },
    {
      "cell_type": "code",
      "source": [
        "def calc(*numbers):\n",
        "    count = 0\n",
        "    tot = 0\n",
        "    for n in numbers:\n",
        "        count += 1\n",
        "        tot += n\n",
        "    return count, tot # return 은 값을 반환 후 함수 종료\n",
        " \n",
        "calc(1,5,2,6) # (4, 14)\n",
        "count, total = calc(1,5,2,6)\n",
        "print(f'Count is {count}, Total is {total}') # Count is 4, Total is 14"
      ],
      "metadata": {
        "colab": {
          "base_uri": "https://localhost:8080/"
        },
        "id": "wUsKoyVox0iy",
        "outputId": "c2190c9a-854e-4af0-941e-43dd8ad312a7"
      },
      "execution_count": null,
      "outputs": [
        {
          "output_type": "stream",
          "name": "stdout",
          "text": [
            "Count is 4, Total is 14\n"
          ]
        }
      ]
    },
    {
      "cell_type": "code",
      "source": [
        "# 리턴을 사용하는 직관적인 이유는 재사용성\n",
        "def plus(p1,p2):\n",
        "    pv=p1+p2\n",
        "    return pv\n",
        " \n",
        "def minus(p1,p2):\n",
        "    mv=p1-p2\n",
        "    return mv\n",
        " \n",
        "def multiple(p1,p2):\n",
        "    muv=p1*p2\n",
        "    return muv\n",
        " \n",
        "def divide(p1,p2):\n",
        "    dv=p1//p2\n",
        "    return dv\n",
        " \n",
        "pr=plus(20,5)\n",
        "mr=minus(20,5)\n",
        "mur=multiple(20,5)\n",
        "dr=divide(20,5)\n",
        "print(pr,mr,mur,dr)\n",
        " \n",
        "# 10*5를 10//5로 나누어라\n",
        "# 이와같이 다른 연산에 재사용이 가능하다.\n",
        "ar1=multiple(10,5)/divide(10,5)\n",
        "ar2=divide(multiple(10,5),divide(10,5))\n",
        "print(ar1,ar2)"
      ],
      "metadata": {
        "id": "5KJcGlpcyIoy"
      },
      "execution_count": null,
      "outputs": []
    },
    {
      "cell_type": "code",
      "source": [
        "a = lambda x,y:x + y\n",
        "print(a(2, 3))"
      ],
      "metadata": {
        "id": "v_GupU8S0Bcy"
      },
      "execution_count": null,
      "outputs": []
    },
    {
      "cell_type": "code",
      "source": [
        "a = 10\n",
        "def func():\n",
        "    global a    # 전역 변수를 사용하기 위해 선언\n",
        "    a = 20\n",
        "    print(a)\n",
        "func()"
      ],
      "metadata": {
        "id": "Q4kzFDUZ04yq"
      },
      "execution_count": null,
      "outputs": []
    },
    {
      "cell_type": "code",
      "source": [
        "def fun():\n",
        "  pass"
      ],
      "metadata": {
        "id": "c_RuS4pN1anR"
      },
      "execution_count": null,
      "outputs": []
    },
    {
      "cell_type": "code",
      "source": [
        "def fun1():\n",
        "  print('Is it fun?')\n",
        "\n",
        "fun1()"
      ],
      "metadata": {
        "id": "Afh2YfpB1mPZ"
      },
      "execution_count": null,
      "outputs": []
    },
    {
      "cell_type": "code",
      "source": [
        "def fun2(name):\n",
        "  print('Hi',name)\n",
        "\n",
        "fun2('Kim')"
      ],
      "metadata": {
        "id": "B7eCI--610lR"
      },
      "execution_count": null,
      "outputs": []
    },
    {
      "cell_type": "code",
      "source": [
        "def fun3(x,y):\n",
        "  for i in range(y):\n",
        "    print('Hi',x)\n",
        "\n",
        "fun3(10,4)"
      ],
      "metadata": {
        "id": "MFF0gMX-2FA5"
      },
      "execution_count": null,
      "outputs": []
    },
    {
      "cell_type": "code",
      "source": [
        "def fun4(x,y,z):\n",
        "  return x+y+z\n",
        "\n",
        "result=fun4(1,2,3)\n",
        "print(result)"
      ],
      "metadata": {
        "id": "qvL-onZF2bOB"
      },
      "execution_count": null,
      "outputs": []
    },
    {
      "cell_type": "code",
      "source": [
        "def Add3(num1=10,num2=20):\n",
        "    print(f'{num1} + {num2} = {num1 + num2}')\n",
        "    return num1 + num2"
      ],
      "metadata": {
        "id": "16Gfe1SA2-np"
      },
      "execution_count": null,
      "outputs": []
    },
    {
      "cell_type": "code",
      "source": [
        "def Add4(*num):\n",
        "    for i in num:\n",
        "        print(i,end=' ')"
      ],
      "metadata": {
        "id": "1EuJQbN53F3R"
      },
      "execution_count": null,
      "outputs": []
    },
    {
      "cell_type": "code",
      "source": [
        "# Q1]  사용자로 부터 값을 입력 받아서 사칙연산 프로그램을 함수로 구현하세요. \n",
        "# (함수명은 calc()로 사용)\n",
        "  \n",
        "def calc():\n",
        "    calc=input(\"계산할 수식을 입력하세요[ex) 5+5]: \")\n",
        "    if \"+\" in calc:\n",
        "        num1,num2 = calc.split(\"+\")\n",
        "        num1 = int(num1.strip())\n",
        "        num2 = int(num2.strip())\n",
        "        return num1+num2\n",
        "    if \"-\" in calc:\n",
        "        num1,num2 = calc.split(\"-\")\n",
        "        num1 = int(num1.strip())\n",
        "        num2 = int(num2.strip())\n",
        "        return num1-num2\n",
        "    if \"*\" in calc:\n",
        "        num1,num2 = calc.split(\"*\")\n",
        "        num1 = int(num1.strip())\n",
        "        num2 = int(num2.strip())\n",
        "        return num1*num2\n",
        "    if \"/\" in calc:\n",
        "        num1,num2 = calc.split(\"/\")\n",
        "        num1 = int(num1.strip())\n",
        "        num2 = int(num2.strip())\n",
        "        return num1/num2 \n",
        "print(\"===== 계산기 프로그램 =====\")\n",
        "while True:    \n",
        "    print(\"계산 결과 :\",calc())\n",
        "    en=input(\"계산을 종료하겠습니까?(yes/no):\")\n",
        "    if en == 'yes':\n",
        "        print(f'Thank you for using our program.')\n",
        "        break\n",
        "    else: continue"
      ],
      "metadata": {
        "colab": {
          "base_uri": "https://localhost:8080/"
        },
        "id": "-CszApWn9Hhn",
        "outputId": "86280dbc-ec4c-4500-9f2f-7029fd2fa21e"
      },
      "execution_count": null,
      "outputs": [
        {
          "output_type": "stream",
          "name": "stdout",
          "text": [
            "===== 계산기 프로그램 =====\n",
            "계산할 수식을 입력하세요[ex) 5+5]: 5+5\n",
            "계산 결과 : 10\n",
            "계산을 종료하겠습니까?(yes/no):yes\n",
            "Thank you for using our program.\n"
          ]
        }
      ]
    },
    {
      "cell_type": "code",
      "source": [
        "# Q2]  사용자로 부터 값을 입력 받아서 사칙연산 프로그램을 함수로 구현하세요. (함수명은 calc()로 사용)\n",
        "def calc(num1,num2,giho):      #calc()함수, 인자 3 \n",
        "    if giho == \"+\" :\n",
        "        sum = num1+num2\n",
        "        return sum     #Return을 이용한 함수 반환\n",
        "    elif giho == \"-\":\n",
        "        return num1-num2\n",
        "    elif giho == \"*\":\n",
        "        return num1*num2\n",
        "    elif giho == \"/\":\n",
        "        return num1/num2\n",
        " \n",
        "# main 프로그래밍\n",
        "print(\"===== 계산기 프로그램 =====\")\n",
        "try:\n",
        "    while True:    #무한 반복구문\n",
        "        in_text=input(\"계산할 수식을 입력하세요[ex) 5+5]: \")\n",
        "        giho='';num1=num2=0\n",
        "        if \"+\" in in_text:\n",
        "            su1,su2 = in_text.split(\"+\")\n",
        "            num1 = int(su1.strip())\n",
        "            num2 = int(su2.strip())\n",
        "            giho=\"+\"\n",
        "        elif \"-\" in in_text:\n",
        "            su1,su2 = in_text.split(\"-\")\n",
        "            num1 = int(su1.strip())\n",
        "            num2 = int(su2.strip())\n",
        "            giho=\"-\"\n",
        "        elif \"*\" in in_text:\n",
        "            su1,su2 = in_text.split(\"*\")\n",
        "            num1 = int(su1.strip())\n",
        "            num2 = int(su2.strip())\n",
        "            giho=\"*\"\n",
        "        elif \"/\" in in_text:\n",
        "            su1,su2 = in_text.split(\"/\")\n",
        "            num1 = int(su1.strip())\n",
        "            num2 = int(su2.strip())\n",
        "            giho=\"/\"\n",
        "        \n",
        "        re=calc(num1,num2,giho)\n",
        "        print(\"계산 결과 :\",re)\n",
        "        en=input(\"계산을 종료하겠습니까?(yes/no):\")\n",
        "        if en!='yes':\n",
        "            continue\n",
        "        else: break    #위 선언된 함수를 호출\n",
        "except:\n",
        "    print(\"올바른 수식을 입력해 주세요. 나누기는 / 로 사용해 주세요.\")"
      ],
      "metadata": {
        "id": "cRNtwlY0TX6w"
      },
      "execution_count": null,
      "outputs": []
    },
    {
      "cell_type": "code",
      "source": [
        "# Q3] . 짝, 홀수를 구분하는 함수를 작성해 주세요.\n",
        "def evenodd(num):\n",
        "    if num % 2 == 0:\n",
        "        return \"짝수\"\n",
        "    else:\n",
        "        return \"홀수\"\n",
        " \n",
        "try:\n",
        "    while True:\n",
        "        num = int(input(\"정수 입력: \"))\n",
        "        result = evenodd(num)\n",
        "        print(result)\n",
        "        en=input(\"계산을 종료하겠습니까?(yes/no):\")\n",
        "        if en!='yes':\n",
        "            continue\n",
        "        else: break    \n",
        "except:\n",
        "    print(\"정수를 입력해 주세요.\")"
      ],
      "metadata": {
        "id": "qQ_4lLwXTHlo"
      },
      "execution_count": null,
      "outputs": []
    },
    {
      "cell_type": "code",
      "source": [
        "# Q4]  \"3\"의 배수를 판별하는 함수를 작성해 주세요.\n",
        "def multiple(num):\n",
        "    if not num % 3:\n",
        "        print(\"3의 배수 입니다.\")\n",
        "    else:\n",
        "        print(\"3의 배수가 아닙니다.\")\n",
        " \n",
        "try:\n",
        "    while True:\n",
        "        num = int(input(\"정수 입력: \"))\n",
        "        result = multiple(num)\n",
        "        \n",
        "        en=input(\"계산을 종료하겠습니까?(yes/no):\")\n",
        "        if en!='yes':\n",
        "            continue\n",
        "        else: break    #위 선언된 함수를 호출\n",
        "except:\n",
        "    print(\"정수를 입력해 주세요.\")"
      ],
      "metadata": {
        "id": "RsTSnHh6VDlQ"
      },
      "execution_count": null,
      "outputs": []
    },
    {
      "cell_type": "code",
      "source": [
        "# Q5] 예제 거꾸로 수를 반환하는 함수를 계산,출력 기능으로 나눠서 작성해 주세요\n",
        "# 예) 123 => 321\n",
        "def reverseCode(result):\n",
        "    temp, su = 0,0\n",
        "    while True:\n",
        "        temp = result % 10\n",
        "        result = result // 10\n",
        "        su = (su+temp) * 10\n",
        "        if not result:\n",
        "            return su // 10\n",
        "def display():\n",
        "    result, su = 0,0\n",
        "    result = int(input(\"정수 입력: \"))\n",
        "    su = reverseCode(result)\n",
        "    print(\"변환 전 값: {}, 변환 후 값: {}\".format(result,su))\n",
        "display()"
      ],
      "metadata": {
        "id": "lvvAnRg7XHUP"
      },
      "execution_count": null,
      "outputs": []
    },
    {
      "cell_type": "code",
      "source": [
        "# 아래의 코드를 사용하여 함수를 작성해 보세요\n",
        "# score = int(input('Input a score : '))\n",
        "# if score < 0 or score > 100 : grade = 'Error'\n",
        "# elif score >= 90 : grade = 'A'\n",
        "# elif score >= 80 : grade = 'B'\n",
        "# elif score >= 70 : grade = 'C'\n",
        "# elif score >= 60 : grade = 'D'\n",
        "# else : grade = 'F'\n",
        "# print(grade)\n",
        "\n",
        "def grade(score):\n",
        "    if score < 0  or score > 100 : grade = 'Error'\n",
        "    elif score >= 90 : grade = 'A'\n",
        "    elif score >= 80 : grade = 'B'\n",
        "    elif score >= 70 : grade = 'C'\n",
        "    elif score >= 60 : grade = 'D'\n",
        "    else : grade = 'F'\n",
        "    return grade\n",
        "aaa = grade(50)\n",
        "print(aaa)"
      ],
      "metadata": {
        "id": "okDvQ1jQfJ69"
      },
      "execution_count": null,
      "outputs": []
    },
    {
      "cell_type": "code",
      "source": [
        "# 비만도를 구하는 함수를 만드시오.\n",
        "#    비만도 계산 식 : 비만도(%) = 현재 체중 / 표준 체중 * 100\n",
        "#    표준 체중 계산 식 : 표준 체중 = (현재 키 – 100) * 0.9\n",
        "#    출력 예제 : 홍길동님의 비만도는 112.15% 입니다.\n",
        "def fatRate(tall, weight):\n",
        "    std_weight = (tall - 100) * 0.9\n",
        "    fat_rate = weight / std_weight * 100\n",
        " \n",
        "    return fat_rate\n",
        " \n",
        "print('{}님의 비만도는 {:.2f}% 입니다.'.format('홍길동', fatRate(175.3, 72.1)))\n",
        "print('{}님의 비만도는 {:.2f}% 입니다.'.format('박찬호', fatRate(183.7, 86.9)))"
      ],
      "metadata": {
        "id": "4AZzbZItfSSl"
      },
      "execution_count": null,
      "outputs": []
    },
    {
      "cell_type": "code",
      "source": [
        "# 두 수를 입력받은 후, 뺄셈의 결과를 return하는 함수 생성\n",
        "def minus(p1,p2):\n",
        "    num1_num2=p1-p2\n",
        "    return num1_num2\n",
        " \n",
        "num1=int(input(\"first number : \"))\n",
        "num2=int(input(\"secone number : \"))\n",
        "r1=minus(num1,num2)\n",
        "print(r1)"
      ],
      "metadata": {
        "id": "jXfTVx-ufgg8"
      },
      "execution_count": null,
      "outputs": []
    }
  ]
}