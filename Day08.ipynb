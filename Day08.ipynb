{
  "nbformat": 4,
  "nbformat_minor": 0,
  "metadata": {
    "colab": {
      "provenance": [],
      "collapsed_sections": [],
      "include_colab_link": true
    },
    "kernelspec": {
      "name": "python3",
      "display_name": "Python 3"
    },
    "language_info": {
      "name": "python"
    }
  },
  "cells": [
    {
      "cell_type": "markdown",
      "metadata": {
        "id": "view-in-github",
        "colab_type": "text"
      },
      "source": [
        "<a href=\"https://colab.research.google.com/github/donhaklee/python/blob/main/Day08.ipynb\" target=\"_parent\"><img src=\"https://colab.research.google.com/assets/colab-badge.svg\" alt=\"Open In Colab\"/></a>"
      ]
    },
    {
      "cell_type": "code",
      "execution_count": null,
      "metadata": {
        "id": "jrLtWvHhu1y2"
      },
      "outputs": [],
      "source": [
        "# Dictionary(사전) 자료형\n",
        " \n",
        "# 특징\n",
        "# Mapping Type : Sequence Type과 다르게 Index를 사용하지 않고\n",
        "# Key를 Index 처럼 사용 한다.\n",
        "# Iterable Type : 반복 가능 자료형으로 for 반복문에 의해 사용 할 수 있는 자료형\n",
        "# Mutation Type : 변경 가능, 사전 자료의 요소를 추가/수정/삭제 할 수 있다.\n",
        "# 딕셔너리는 다른 언어의 해시 테이블( hash table ) 또는 맵( map )과 같습니다.\n",
        "# 딕셔너리의 각 원소는 key와 value를 하나의 쌍으로 하여 형성됩니다.\n",
        " \n",
        "# 생성 방법(Syntax)\n",
        "# {} 중괄호를 사용하여 생성 한다.\n",
        "# d = {}  # 빈 사전형\n",
        "# 항상 Key와 Value의 쌍으로 생성해야 한다.\n",
        "# Key로 사용 할 수 있는 자료형은 정수, 실수, 문자열, 튜플 이다.\n",
        "# Key는 중복이 될 수 없다. 하나의 Key만 사용 가능\n",
        "# Value로 사용 할 수 있는 자료형은 모든 자료형 이다.\n",
        "# {Key:value, ...}\n",
        "# d = {'name':'Python', 'version':3.6}"
      ]
    },
    {
      "cell_type": "code",
      "source": [
        "# 사전형 자료에 접근하는 방법\n",
        "# 1. 딕셔너리를 생성하는 여러가지 방법\n",
        "fruit = {'apple': 100, 'banana': 50}\n",
        "print(type(fruit))          # <class 'dict'>"
      ],
      "metadata": {
        "colab": {
          "base_uri": "https://localhost:8080/"
        },
        "id": "r8-USQQ_zfIo",
        "outputId": "4c5df48e-06d4-41d4-b402-a18bfad0f214"
      },
      "execution_count": null,
      "outputs": [
        {
          "output_type": "stream",
          "name": "stdout",
          "text": [
            "<class 'dict'>\n"
          ]
        }
      ]
    },
    {
      "cell_type": "code",
      "source": [
        "d = dict(apple=100, banana=50)\n",
        "print(d, type(d))           # {'apple': 100, 'banana': 50} <class 'dict'>"
      ],
      "metadata": {
        "colab": {
          "base_uri": "https://localhost:8080/"
        },
        "id": "hgVSUFq90BzW",
        "outputId": "d2232e89-9502-4a96-bd33-02bcb8ae1104"
      },
      "execution_count": null,
      "outputs": [
        {
          "output_type": "stream",
          "name": "stdout",
          "text": [
            "{'apple': 100, 'banana': 50} <class 'dict'>\n"
          ]
        }
      ]
    },
    {
      "cell_type": "code",
      "source": [
        "# dict() 함수의 인자로 리스트, 튜플을 원소로 갖는 리스트를 전달\n",
        "d2 = dict([['apple', 100], ['banana', 50]])\n",
        "print(d2, type(d2))\n",
        "\n",
        "d2 = dict([('apple', 100), ('banana', 50)])\n",
        "print(d2, type(d2))\n",
        "\n",
        "d2 = dict((('apple', 100), ('banana', 50)))\n",
        "print(d2, type(d2))\n",
        "\n",
        "d2 = dict((['apple', 100], ['banana', 50]))\n",
        "print(d2, type(d2))"
      ],
      "metadata": {
        "id": "TGGT_oS50YVt"
      },
      "execution_count": null,
      "outputs": []
    },
    {
      "cell_type": "code",
      "source": [
        "# zip() 함수\n",
        "keys = {'apple','banana'}\n",
        "values = {100, 50}\n",
        "d3 = dict(zip(keys, values))\n",
        "print(d3, type(d3))"
      ],
      "metadata": {
        "colab": {
          "base_uri": "https://localhost:8080/"
        },
        "id": "qLnAT0Pn1Jmd",
        "outputId": "75bce39c-7e73-46c6-a916-ef58ac6596e7"
      },
      "execution_count": null,
      "outputs": [
        {
          "output_type": "stream",
          "name": "stdout",
          "text": [
            "{'apple': 50, 'banana': 100} <class 'dict'>\n"
          ]
        }
      ]
    },
    {
      "cell_type": "code",
      "source": [
        "# 요소 추가 및 value 조회\n",
        "fruit = {'apple': 100, 'banana': 50}\n",
        "fruit['peach'] = 60\n",
        "fruit['tomato'] = 80\n",
        "print(fruit) # {'tomato': 80, 'apple': 100, 'peach': 60, 'banana': 50}\n",
        "print(fruit['apple'])   # 100"
      ],
      "metadata": {
        "colab": {
          "base_uri": "https://localhost:8080/"
        },
        "id": "U5CCiPRb1lam",
        "outputId": "d50ee5de-bde2-40e3-fa18-5caa61000e39"
      },
      "execution_count": null,
      "outputs": [
        {
          "output_type": "stream",
          "name": "stdout",
          "text": [
            "{'apple': 100, 'banana': 50, 'peach': 60, 'tomato': 80}\n",
            "100\n"
          ]
        }
      ]
    },
    {
      "cell_type": "code",
      "source": [
        "# 딕셔너리는 + 연산을 지원하지 않습니다.\n",
        "# 즉 + 연산으로 요소를 추가할 수 없습니다.\n",
        "fruit1 = {'apple': 100, 'banana': 50}\n",
        "fruit2 = {'peach': 100, 'kiwi': 50}\n",
        "fruit3 = fruit1 + fruit2\n",
        "# unsupported operand type(s) for +: 'dict' and 'dict'\n",
        "print(fruit3)"
      ],
      "metadata": {
        "id": "EGuj4Dr72Wov"
      },
      "execution_count": null,
      "outputs": []
    },
    {
      "cell_type": "code",
      "source": [
        "# 딕셔너리는 mutable 합니다.\n",
        "fruit = {'apple': 100, 'banana': 50}\n",
        "fruit['apple'] = 80\n",
        "print(fruit)        # {'apple': 80, 'banana': 50}"
      ],
      "metadata": {
        "colab": {
          "base_uri": "https://localhost:8080/"
        },
        "id": "z1I4LLw02lYT",
        "outputId": "4c6818f5-0468-4c35-e28c-83128aa7d1b4"
      },
      "execution_count": null,
      "outputs": [
        {
          "output_type": "stream",
          "name": "stdout",
          "text": [
            "{'apple': 80, 'banana': 50}\n"
          ]
        }
      ]
    },
    {
      "cell_type": "code",
      "source": [
        "# 함수 및 메서드\n",
        "fruit = {'apple': 100, 'banana': 50}\n",
        "\n",
        "# keys()\n",
        "keys = fruit.keys()\n",
        "print(keys, type(keys))\n",
        "\n",
        "# values()\n",
        "values = fruit.values()\n",
        "print(values, type(values))\n",
        "\n",
        "# items()\n",
        "items = fruit.items()  # key, value 쌍을 튜플로 만들고, 튜플을 원소로 갖는 리스트가 반환된다.\n",
        "print(items, type(items))\n",
        "\n",
        "# get()\n",
        "price = fruit.get('apple')\n",
        "print(price)              # 80\n",
        "print(fruit.get('melon')) # None  => 없는 key를 get() 할 경우 예외가 발생하지 않는다.\n",
        "\n",
        "# Exception has occurred: KeyError  발생\n",
        "# print(fruit['melon']) "
      ],
      "metadata": {
        "id": "iApjWkLb20zN"
      },
      "execution_count": null,
      "outputs": []
    },
    {
      "cell_type": "code",
      "source": [
        "# pop()\n",
        "fruit = {'apple': 100, 'banana': 50}\n",
        "value = fruit.pop('banana')\n",
        "print(value)                    # 50\n",
        "print(fruit)                    # {'apple': 80, 'peach': 60, 'tomato': 80}"
      ],
      "metadata": {
        "id": "xWUEECHj4lts"
      },
      "execution_count": null,
      "outputs": []
    },
    {
      "cell_type": "code",
      "source": [
        "# popitem()\n",
        "fruit = {'apple': 100, 'banana': 50}\n",
        "item = fruit.popitem()          # 마지막 원소를 튜플로 가져오기\n",
        "print(item)                     # ('tomato', 80)\n",
        "print(fruit)                    # {'apple': 80, 'peach': 60}"
      ],
      "metadata": {
        "id": "iFidB1pf5Nft"
      },
      "execution_count": null,
      "outputs": []
    },
    {
      "cell_type": "code",
      "source": [
        "# update(dict) : 사전형 자료에 key:value를 추가/수정\n",
        "# 동일한 key 가 없으면, 추가\n",
        "# 동일한 key 가 있으면, 수정\n",
        "fruit = {'apple': 100, 'banana': 50,'peach':60,'tomato':80}\n",
        "fruit.update({'apple':90}) # apple키의 값을 90 을 업뎃\n",
        "fruit.update({'kiwi':50}) # kiwi:50 원소 추가\n",
        "print(fruit.items())"
      ],
      "metadata": {
        "id": "v-FIhqTF5hHk"
      },
      "execution_count": null,
      "outputs": []
    },
    {
      "cell_type": "code",
      "source": [
        "# clear() : 사전형의 모든 요소를 삭제\n",
        "fruit = {'apple': 100, 'banana': 50,'peach':60,'tomato':80}\n",
        "fruit.clear()\n",
        "print(fruit.items())"
      ],
      "metadata": {
        "id": "xET7mid3526w"
      },
      "execution_count": null,
      "outputs": []
    },
    {
      "cell_type": "code",
      "source": [
        "# fromkeys(iterable[, value]) : iterable의 요소를 사용하여 key를 생성하는 함수\n",
        "# 옵션으로 value를 사용하면 기본값 생성을 한다.\n",
        "list_1 = ['apple', 'banana', 'peach', 'tomato']\n",
        "dic_1 = dict.fromkeys(list_1, 1000)\n",
        "print(dic_1)"
      ],
      "metadata": {
        "id": "DAs-EknP6Bnz"
      },
      "execution_count": null,
      "outputs": []
    },
    {
      "cell_type": "code",
      "source": [
        "# del\n",
        "dic_1 = {'apple':1000, 'banana':2000}\n",
        "del dic_1['apple']\n",
        "print(dic_1)"
      ],
      "metadata": {
        "id": "jz7ood4g6Z3k"
      },
      "execution_count": null,
      "outputs": []
    },
    {
      "cell_type": "code",
      "source": [
        "# 활용법\n",
        "#사전과 리스트를 이용한 사용\n",
        "dl={'음료':['탄산','과일','우유','물'],\n",
        "    '식사':['김밥','라면','돈까스','비빔밥']}\n",
        "for x in dl:    #'key'값에 대한 Value(list)값 설정\n",
        "  print(dl[x])"
      ],
      "metadata": {
        "id": "IwBD6YL-_vjS"
      },
      "execution_count": null,
      "outputs": []
    },
    {
      "cell_type": "code",
      "source": [
        "#리스트와 사전을 이용한 방식\n",
        "ld = [{'name':'park', 'age':25, 'blood':'B'},\n",
        "      {'name':'Kim','age':27,'blood':'A' }]\n",
        "for dic in ld:    #indexing값에 대한 Value(dict)값 설정\n",
        "    print(dic['name'], dic['age'],dic['blood']) "
      ],
      "metadata": {
        "id": "8Se_DpajASg7"
      },
      "execution_count": null,
      "outputs": []
    },
    {
      "cell_type": "code",
      "source": [
        "#사전에 사전을 이용한 방식\n",
        "dd = {'park':{'age':25,'blood':'B'},\n",
        "      'Kim':{'age':37,'blood':'A'}}\n",
        "for name in dd:   #'key'값에 대한 Value(dict)값 설정\n",
        "    print(name,dd[name]['age'],dd[name]['blood']) "
      ],
      "metadata": {
        "id": "5legxs6xAotB"
      },
      "execution_count": null,
      "outputs": []
    },
    {
      "cell_type": "code",
      "source": [
        "#unpacking\n",
        "fruit = {'apple': 100, 'banana': 50,'peach':60,'tomato':80}\n",
        "for k, v in fruit.items(): #unpacking\n",
        "   print(f'{k}:{v}')"
      ],
      "metadata": {
        "id": "D2m1pUYVBJue"
      },
      "execution_count": null,
      "outputs": []
    },
    {
      "cell_type": "code",
      "source": [
        "# fruit 딕셔너리에서 하나의 요소를 추출하면 기본값이 key이다.\n",
        "fruit = {'apple': 100, 'banana': 50,'peach':60,'tomato':80}\n",
        "for k in fruit:\n",
        "# for k in fruit.keys():\n",
        "    print(k)\n",
        "\n",
        "for v in fruit.values():\n",
        "    print(v)\n",
        "\n",
        "for k,v in fruit.items():\n",
        "    print(k,v)"
      ],
      "metadata": {
        "id": "UxJOutH9Bk9y"
      },
      "execution_count": null,
      "outputs": []
    },
    {
      "cell_type": "code",
      "source": [
        "# 2차 딕셔너리에서 value값 추출하기\n",
        "dic_1 = {\n",
        "    'python':{'version':3.6, 'author':'user1'},\n",
        "    'java':{'version':8, 'author':'user2'},\n",
        "    'c++':{'version':2.5, 'author':'user3'}\n",
        "}\n",
        "for key1 in dic_1:\n",
        "  for key2 in dic_1[key1]:\n",
        "    print(dic_1[key1][key2], end='\\t')\n",
        "  print()"
      ],
      "metadata": {
        "id": "lFYB-zTUCQlB"
      },
      "execution_count": null,
      "outputs": []
    },
    {
      "cell_type": "code",
      "source": [
        "# 1. 다음과 같은 메뉴와 가격을 key와 value로 사용하여\n",
        "# 사전형 자료를 만들어, 오름차순으로 출력해보세요.(변수명은 menu)\n",
        " \n",
        "# 칼국수(6000원), 비빕밥(5500원), 돼지국밥(7000원),\n",
        "# 돈까스(7000원), 김밥(2000원), 라면(2500원) \n",
        " \n",
        "menu={'칼국수':6000,'비빕밥':5500,'돼지국밥':7000,'돈까스':7000,'김밥':2000,'라면':2500}\n",
        "print(menu.items())\n",
        "\n",
        "menu['볶음밥']=5000\n",
        "print(menu)\n",
        "\n",
        "menu['김밥']=2300\n",
        "print(menu)\n",
        "\n",
        "del menu['돼지국밥']\n",
        "print(menu)\n",
        "\n",
        "for x,y in menu.items():\n",
        "    print(\"{}\\t{:,}원\".format(x,y))\n"
      ],
      "metadata": {
        "id": "Z5DN6nIdEGRh"
      },
      "execution_count": null,
      "outputs": []
    },
    {
      "cell_type": "code",
      "source": [
        "# 메뉴판에서 사용자가 선택한 메뉴와 가격을 출력하세요.\n",
        "# {'메뉴명': 가격}\n",
        " \n",
        "menu = input('Which one of  americano,  cafemocha,  cafelatte: ')\n",
        "\n",
        "menu_board = (['americano', 3000], ['cafemocha', 3500], ['cafelatte', 3500])\n",
        " \n",
        "for values in menu_board:\n",
        "  if values[0] == menu:\n",
        "    print(values[0],values[1],sep=' : ')"
      ],
      "metadata": {
        "id": "ZKobRuSeGh7A"
      },
      "execution_count": null,
      "outputs": []
    },
    {
      "cell_type": "code",
      "source": [
        "# 성적표 구하기\n",
        "grade = {'국어': 73, '영어': 61, '수학': 65, '사회': 82, '역사': 71, '과학': 97}\n",
        " \n",
        "# 위의 성적표에서 국어, 영어, 수학 과목의 총점을 구하시오.\n",
        "total = 0\n",
        "subjects = ('국어', '영어', '수학')\n",
        "for key in subjects:\n",
        "    total +=  grade[key]\n",
        "print(f'국, 영, 수 총점 : {total}점')\n",
        "\n",
        "# 위의 성적표에서 모든 과목의 총점 및 평균을 구하시오.\n",
        "total = 0\n",
        "for value in grade.values():\n",
        "    total += value\n",
        "else:\n",
        "    print('모든 과목 총점 : {}점, 평균 : {:.2f}점'.format(total, total/len(grade)))\n",
        "print(sum(grade.values()))\n",
        "\n",
        "# 성적표에서 가장 높은 점수를 받은 과목과 가장 낮은 점수를 받은 과목을 구하시오.\n",
        "mx_subject, ms_subject = '', ''\n",
        "mx_grade, ms_grade = 0, 100\n",
        "for key in grade.keys():\n",
        "    if grade[key] > mx_grade:\n",
        "        mx_grade, mx_subject = grade[key], key\n",
        "    if grade[key] < ms_grade:\n",
        "        ms_grade, ms_subject = grade[key], key\n",
        "else:\n",
        "    print('가장 높은 점수 : {}({})'.format(mx_subject, mx_grade))\n",
        "    print('가장 낮은 점수 : {}({})'.format(ms_subject, ms_grade))"
      ],
      "metadata": {
        "id": "AUafTPlSMlMm"
      },
      "execution_count": null,
      "outputs": []
    },
    {
      "cell_type": "code",
      "source": [
        "# 문자열 응용하기\n",
        "# 1. 문자열 바꾸기\n",
        "# replace('바꿀문자열', '새문자열')은 문자열 안의 문자열을 \n",
        "# 다른 문자열로 바꿉니다(문자열 자체는 변경하지 않으며 바뀐 결과를 반환합니다). \n",
        "\n",
        "print(\"Hello, Python\".replace('Python','Java'))\n",
        " \n",
        "str1=\"Hello Python\"\n",
        "rstr1=str1.replace(\"Python\",\"Java\")\n",
        "print(rstr1)"
      ],
      "metadata": {
        "id": "zMqCnk9-nATm"
      },
      "execution_count": null,
      "outputs": []
    },
    {
      "cell_type": "code",
      "source": [
        "# 2. 문자열 분리하기\n",
        "# 이제 문자열을 분리하는 방법입니다.\n",
        "# split()은 공백을 기준으로 문자열을 분리하여 리스트로 만듭니다. \n",
        "# 지금까지 input으로 문자열을 입력받은 뒤 리스트로 만든 메서드가 \n",
        "# 바로 이 split입니다.\n",
        "setchar='Korea Japan China Thailand Singapore Vietnam'\n",
        "setchar1=setchar.split()\n",
        "print(setchar1) # ['Korea', 'Japan', 'China', 'Thailand', 'Singapore', 'Vietnam']\n",
        " \n",
        "setchar='Korea,Japan,China,Thailand,Singapore,Vietnam'\n",
        "setchar1=setchar.split(',')\n",
        "print(setchar1) # ['Korea', 'Japan', 'China', 'Thailand', 'Singapore', 'Vietnam']\n",
        " \n",
        "setchar='Korea,Japan,China,Thailand,Singapore,Vietnam'\n",
        "setchar1=setchar.split(',')[1:3]\n",
        "print(setchar1) # Japan\n"
      ],
      "metadata": {
        "id": "DpAd1nk6ng8G"
      },
      "execution_count": null,
      "outputs": []
    },
    {
      "cell_type": "code",
      "source": [
        "# 3. 구분자 문자열과 문자열 리스트 연결하기\n",
        "# 문자열을 분리하여 리스트로 만들었으니 다시 연결하는 방법도 있겠죠?\n",
        "# join(리스트)는 구분자 문자열과 문자열 리스트의 요소를 연결하여 문자열로 만듭니다. 다음은 공백 ' '에 join을 사용하여 각 문자열 사이에 공백이 들어가도록 만듭니다..\n",
        "setchar=':'.join(['Korea','Japan','China','Thailand','Singapore','Vietnam'])\n",
        "print(setchar) # Korea:Japan:China:Thailand:Singapore:Vietnam\n",
        " \n",
        "setchar='-'.join(['Korea','Japan','China','Thailand','Singapore','Vietnam'])\n",
        "print(setchar) # Korea-Japan-China-Thailand-Singapore-Vietnam\n",
        " \n",
        "setchar='-'.join(('Korea','Japan','China','Thailand','Singapore','Vietnam'))\n",
        "print(setchar) # Korea-Japan-China-Thailand-Singapore-Vietnam\n",
        " \n",
        "setchar='-'.join({'Korea','Japan','China','Thailand','Singapore','Vietnam'})\n",
        "print(setchar) # Japan-Singapore-Korea-Vietnam-Thailand-China"
      ],
      "metadata": {
        "id": "c_8QVHlWoLLw"
      },
      "execution_count": null,
      "outputs": []
    },
    {
      "cell_type": "code",
      "source": [
        "# 4. 소문자를 대문자로 바꾸기\n",
        "# 이번에는 문자열의 문자를 대소문자로 바꾸는 방법입니다.\n",
        "# upper()는 문자열의 문자를 모두 대문자로 바꿉니다. \n",
        "# 만약 문자열 안에 대문자가 있다면 그대로 유지됩니다.\n",
        "\n",
        "setchar='Korea,Japan,China,Thailand,Singapore,Vietnam'\n",
        "setchar1=setchar.upper()\n",
        "print(setchar1) #KOREA,JAPAN,CHINA,THAILAND,SINGAPORE,VIETNAM"
      ],
      "metadata": {
        "id": "oJFFL3eeog_G"
      },
      "execution_count": null,
      "outputs": []
    },
    {
      "cell_type": "code",
      "source": [
        "# 5. 대문자를 소문자로 바꾸기\n",
        "# lower()는 문자열의 문자를 모두 소문자로 바꿉니다. \n",
        "# 만약 문자열 안에 소문자가 있다면 그대로 유지됩니다.\n",
        "\n",
        "setchar='Korea,Japan,China,Thailand,Singapore,Vietnam'\n",
        "setchar1=setchar.lower()\n",
        "print(setchar1) #korea,japan,china,thailand,singapore,vietnam\n"
      ],
      "metadata": {
        "id": "uXL5zRMyoqQd"
      },
      "execution_count": null,
      "outputs": []
    },
    {
      "cell_type": "code",
      "source": [
        "# 6. 왼쪽 공백 삭제하기\n",
        "# 문자열을 사용하다 보면 공백을 삭제해야 할 경우가 생깁니다. \n",
        "# 이때는 lstrip, rstrip, strip 메서드를 사용합니다.\n",
        "# lstrip()은 문자열에서 왼쪽에 있는 연속된 모든 공백을 \n",
        "# 삭제합니다(l은 왼쪽(left)을 의미).\n",
        "\n",
        "setchar='    Korea,Japan,China,Thailand,Singapore,Vietnam'\n",
        "print(setchar.lstrip())"
      ],
      "metadata": {
        "id": "Ww6JerJxozmF"
      },
      "execution_count": null,
      "outputs": []
    },
    {
      "cell_type": "code",
      "source": [
        "# 7. 오른쪽 공백 삭제하기\n",
        "# rstrip()은 문자열에서 오른쪽에 있는 연속된 모든 공백을 삭제합니다\n",
        "# (r은 오른쪽(right)을 의미).\n",
        "setchar='Korea,Japan,China,Thailand,Singapore,Vietnam    '\n",
        "print(setchar.rstrip())"
      ],
      "metadata": {
        "id": "hm2wu_nRpCcm"
      },
      "execution_count": null,
      "outputs": []
    },
    {
      "cell_type": "code",
      "source": [
        "# 8. 양쪽 공백 삭제하기\n",
        "# strip()은 문자열에서 양쪽에 있는 연속된 모든 공백을 삭제합니다.\n",
        "setchar='    Korea,Japan,China,Thailand,Singapore,Vietnam    '\n",
        "print(setchar.strip())"
      ],
      "metadata": {
        "id": "8LfvpF1ypJzW"
      },
      "execution_count": null,
      "outputs": []
    },
    {
      "cell_type": "code",
      "source": [
        "# 9. 특정 문자 삭제하기\n",
        "# 문자열 양쪽의 특정 문자 삭제(중간 문자열은 삭제 안됨)\n",
        "setchar='.Korea,Japan.China,Thailand,Singapore.Vietnam.'\n",
        "print(setchar.strip('.'))"
      ],
      "metadata": {
        "id": "d_8oGjCdpTUk"
      },
      "execution_count": null,
      "outputs": []
    },
    {
      "cell_type": "code",
      "source": [
        "# 10. 구두점을 간단하게 삭제하기\n",
        "# string 모듈의 punctuation에는 모든 구두점이 들어있습니다. \n",
        "# 다음과 같이 strip 메서드에 string.punctuation을 넣으면 \n",
        "# 문자열 양쪽의 모든 구두점을 간단하게 삭제할 수 있습니다.\n",
        "# string모듈을 사용하여 문단 양쪽의 구두점 삭제\n",
        "import string\n",
        "\n",
        "setchar='.Korea,Japan.China,Thailand,Singapore.Vietnam.'\n",
        "setchar1=setchar.strip(string.punctuation)\n",
        "print(setchar1)"
      ],
      "metadata": {
        "id": "r5dYGKK8plnF"
      },
      "execution_count": null,
      "outputs": []
    },
    {
      "cell_type": "code",
      "source": [
        "# 11. 문자열을 왼쪽 정렬하기\n",
        "# 이번에는 문자열에 공백을 넣어서 원하는 위치에 정렬하는 방법을 알아보겠습니다.\n",
        "# ljust(길이)는 문자열을 지정된 길이로 만든 뒤 왼쪽으로 정렬하며 \n",
        "# 남는 공간을 공백으로 채웁니다(l은 왼쪽(left)을 의미). \n",
        "# 다음은 문자열 'python'의 길이를 10으로 만든 뒤 왼쪽으로 정렬하고 \n",
        "# 남는 공간을 공백 4칸으로 채웁니다.\n",
        "\n",
        "setchar='Korea,Japan.China,Thailand,Singapore.Vietnam'\n",
        "print(setchar.ljust(50))"
      ],
      "metadata": {
        "id": "tuUf2wCcp5TF"
      },
      "execution_count": null,
      "outputs": []
    },
    {
      "cell_type": "code",
      "source": [
        "# 12. 문자열을 오른쪽 정렬하기\n",
        "# rjust(길이)는 문자열을 지정된 길이로 만든 뒤 오른쪽으로 정렬하며 \n",
        "# 남는 공간을 공백으로 채웁니다(r은 오른쪽(right)을 의미). \n",
        "# 다음은 문자열 'python'의 길이를 10으로 만든 뒤 오른쪽으로 정렬하고 \n",
        "# 남는 공간을 공백 4칸으로 채웁니다.\n",
        "\n",
        "setchar='Korea,Japan.China,Thailand,Singapore.Vietnam'\n",
        "print(setchar.rjust(50))"
      ],
      "metadata": {
        "id": "uiT73eWtqOBw"
      },
      "execution_count": null,
      "outputs": []
    },
    {
      "cell_type": "code",
      "source": [
        "# 13. 문자열을 가운데 정렬하기\n",
        "# center(길이)는 문자열을 지정된 길이로 만든 뒤 가운데로 정렬하며 \n",
        "# 남는 공간을 공백으로 채웁니다. \n",
        "# 다음은 문자열 'python'의 길이를 10으로 만든 뒤 가운데로 정렬하고 \n",
        "# 양 옆의 남는 공간을 공백 2칸씩 채웁니다.\n",
        "\n",
        "setchar='Korea,Japan.China,Thailand,Singapore.Vietnam'\n",
        "print(setchar.center(50))"
      ],
      "metadata": {
        "id": "nNNDaWuJqZJl"
      },
      "execution_count": null,
      "outputs": []
    },
    {
      "cell_type": "code",
      "source": [
        "# 14. 문자열 위치 찾기\n",
        "# 이번에는 문자열의 위치를 찾는 방법을 알아보겠습니다.\n",
        "# find('찾을문자열')은 문자열에서 특정 문자열을 찾아서 \n",
        "# 인덱스를 반환하고, 문자열이 없으면 -1을 반환합니다. \n",
        "# find는 왼쪽에서부터 문자열을 찾는데, 같은 문자열이 여러 개일 경우 \n",
        "# 처음 찾은 문자열의 인덱스를 반환합니다. 여기서는 'pl'이 2개 있지만 왼쪽에서 \n",
        "# 처음 찾은 'pl'의 인덱스 2를 반환합니다.\n",
        "setchar='Korea,Japan.China,Thailand,Singapore.Vietnam'\n",
        "print(setchar.find('K'))\n",
        "print(setchar.find('T'))\n",
        "print(setchar.find('V'))"
      ],
      "metadata": {
        "id": "IixaAeugqm_l"
      },
      "execution_count": null,
      "outputs": []
    },
    {
      "cell_type": "code",
      "source": [
        "# 15. 오른쪽에서부터 문자열 위치 찾기\n",
        "# rfind('찾을문자열')은 오른쪽에서부터 특정 문자열을 찾아서 인덱스를 반환하고, \n",
        "# 문자열이 없으면 -1을 반환합니다(r은 오른쪽( right)을 의미). \n",
        "# 같은 문자열이 여러 개일 경우 처음 찾은 문자열의 인덱스를 반환합니다. \n",
        "# 여기서는 'pl'이 2개 있지만 \n",
        "str10 = setchar='Korea,Japan.China,Thailand,Singapore.Vietnam'\n",
        "print(setchar.find('a')) #왼쪽부터 일치되는 첫번째 문자열 인덱스 번호 출력\n",
        "print(setchar.index('a'))#왼쪽부터 일치되는 첫번째 문자열 인덱스 번호 출력\n",
        "print(setchar.rfind('a'))#오른쪽부터 일치되는 첫번째 문자열 인덱스 번호 출력\n",
        "print(setchar.rindex('a'))#오른쪽부터 일치되는 첫번째 문자열 인덱스 번호 출력"
      ],
      "metadata": {
        "id": "TXku1BEprBWl"
      },
      "execution_count": null,
      "outputs": []
    },
    {
      "cell_type": "code",
      "source": [
        "# 16. 문자열 개수 세기\n",
        "# count('문자열')은 현재 문자열에서 특정 문자열이 몇 번 나오는지 알아냅니다. \n",
        "# 여기서는 'pl'이 2번 나오므로 2가 반환됩니다.\n",
        "\n",
        "setchar='Korea,Japan.China,Thailand,Singapore.Vietnam'\n",
        "print(setchar.count('a')) #a의 갯수는 8개"
      ],
      "metadata": {
        "id": "muJ3Seu0rb7H"
      },
      "execution_count": null,
      "outputs": []
    },
    {
      "cell_type": "code",
      "source": [
        "# 17. 역으로 출력하기\n",
        "str2 = 'Linux is not Unix'\n",
        "print(''.join(reversed(str2)))\n",
        "\n",
        "# OR\n",
        "\n",
        "str2 = reversed('Linux is not Unix')\n",
        "str2 = (list(str2))\n",
        "for i in str2:\n",
        "    print(i,end='')\n",
        "\n",
        "# OR\n",
        "print()\n",
        "a = reversed('hello')\n",
        "a = (list(a))\n",
        "for i in a:\n",
        "    print(i,end='')"
      ],
      "metadata": {
        "id": "FNrDOLNnrlSV"
      },
      "execution_count": null,
      "outputs": []
    },
    {
      "cell_type": "code",
      "source": [
        "# 18. swapcase() - 대문자는 소문자로, 소문자는 대문자로 변경\n",
        "string1='Hi, I am Kwangjin and 23'\n",
        "string1=string1.swapcase()\n",
        "print(string1) # Hi, i am kwangjin and 23"
      ],
      "metadata": {
        "colab": {
          "base_uri": "https://localhost:8080/"
        },
        "id": "3DqcBR82r8Ms",
        "outputId": "2a65d5a7-ae48-47d4-8b86-2cc965df8ff4"
      },
      "execution_count": null,
      "outputs": [
        {
          "output_type": "stream",
          "name": "stdout",
          "text": [
            "hI, i AM kWANGJIN AND 23\n"
          ]
        }
      ]
    },
    {
      "cell_type": "code",
      "source": [
        "# 19. capitalize() - 첫 문자를 대문자로 변경\n",
        "string1='Hi, I am Kwangjin and 23'\n",
        "string1=string1.capitalize()\n",
        "print(string1) # Hi, i am kwangjin and 23"
      ],
      "metadata": {
        "colab": {
          "base_uri": "https://localhost:8080/"
        },
        "id": "sySu1wy2sGls",
        "outputId": "fb060903-6a67-4ae5-c306-4bd9739baf08"
      },
      "execution_count": null,
      "outputs": [
        {
          "output_type": "stream",
          "name": "stdout",
          "text": [
            "Hi, i am kwangjin and 23\n"
          ]
        }
      ]
    },
    {
      "cell_type": "code",
      "source": [
        "# 20. title() - 각 단어의 첫 글자를 대문자로 변경\n",
        "\n",
        "string1='Hi, I am Kwangjin and 23'\n",
        "string1=string1.title()\n",
        "print(string1) # Hi, I Am Kwangjin And 23"
      ],
      "metadata": {
        "colab": {
          "base_uri": "https://localhost:8080/"
        },
        "id": "ty1i2ONvsQZU",
        "outputId": "120bb68b-9d80-4923-a6fc-ed921701fb5b"
      },
      "execution_count": null,
      "outputs": [
        {
          "output_type": "stream",
          "name": "stdout",
          "text": [
            "Hi, I Am Kwangjin And 23\n"
          ]
        }
      ]
    },
    {
      "cell_type": "code",
      "source": [
        "# 21. is로 시작하는 메소드(함수)의 결과는 bool(True, False)이다.\n",
        "\n",
        "# isalnum() - 알파벳 또는 숫자인가? \n",
        "string1='ABC123'\n",
        "print(\"isalnum:\",string1.isalnum())\n",
        " \n",
        "# # isalpha() - 알파벳인가?\n",
        "string1='ABCabc'\n",
        "print(\"isalpha:\",string1.isalpha())\n",
        " \n",
        "# # isdecimal() - 숫자(decimal, 10진수)인가?\n",
        "string1='1234567'\n",
        "print(\"isdecimal:\",string1.isdecimal())\n",
        " \n",
        "# # isdigit() - 숫자(digit, 10진수)인가?\n",
        "string1='1234567'\n",
        "print(\"isdigit:\",string1.isdigit())\n",
        " \n",
        "# # isidentifier() - 문자열이 식별자로 사용 될 수 있는지 확인\n",
        "# # (Python에서 식별자(변수명, 클래스명)로 사용할 수 있다면 True)\n",
        "string1='_ABC'\n",
        "print(\"isidentifier:\",string1.isidentifier())\n",
        " \n",
        "# # isnumeric() - 숫자인가?\n",
        "string1='1234567'\n",
        "print(\"isnumeric:\",string1.isnumeric())\n",
        " \n",
        "# # isspace() - 공백인가?\n",
        "string1=' '\n",
        "print(\"isspace:\",string1.isspace())\n",
        " \n",
        "# # istitle() - title 형식인가? (단어마다 첫 글자가 대문자인가?)\n",
        "string1='Python'\n",
        "print(\"istitle:\",string1.istitle())\n",
        " \n",
        "# # isupper() - 대문자인가?\n",
        "string1='ABC'\n",
        "print(\"isupper:\",string1.isupper())\n",
        " \n",
        "# # islower() - 소문자인가?\n",
        "string1='abc'\n",
        "print(\"islower:\",string1.islower())"
      ],
      "metadata": {
        "id": "XsqHjOqJveYL"
      },
      "execution_count": null,
      "outputs": []
    },
    {
      "cell_type": "code",
      "source": [
        "# 예제 1\n",
        "\n",
        "A = \"Have a\"\n",
        "B = \" Nice Day\"\n",
        "C = A + B\n",
        "print(C)        # Have a Nice Day\n",
        "print(C * 3)      # Have a Nice Day 세번\n",
        "A += \" Nice Day\"# A = A+ \" Nice Day\"와 같음\n",
        "print(A)        # Have a Nice Day"
      ],
      "metadata": {
        "id": "2ajsDvIIwebT"
      },
      "execution_count": null,
      "outputs": []
    },
    {
      "cell_type": "code",
      "source": [
        "#[예제.2]\n",
        "str = \"python is Easy. Programming 참 쉽죠~~잉!!\"\n",
        "print(str)\n",
        "print(str.upper())    # python is Easy. Programming 참 쉽죠~\n",
        "print(str.lower())    # PYTHON IS EASY. PROGRAMMING 참 쉽죠~\n",
        "\n",
        "#swapcase() 영문 소문자를 대문자로, 대문자를 소문자로 변경\n",
        "print(str.swapcase()) # PYTHON IS eASY. pROGRAMMING 참 쉽죠~\n",
        "\n",
        "#title() 단어의 시작은 대문자로 변경\n",
        "print(str.title())    # Python Is Easy. Programming 참 쉽죠~\n"
      ],
      "metadata": {
        "colab": {
          "base_uri": "https://localhost:8080/"
        },
        "id": "tvZGkytxwuvq",
        "outputId": "e4fc8f9b-8645-496c-e0ba-fabfed7912db"
      },
      "execution_count": null,
      "outputs": [
        {
          "output_type": "stream",
          "name": "stdout",
          "text": [
            "python is Easy. Programming 참 쉽죠~~잉!!\n",
            "PYTHON IS EASY. PROGRAMMING 참 쉽죠~~잉!!\n",
            "python is easy. programming 참 쉽죠~~잉!!\n",
            "PYTHON IS eASY. pROGRAMMING 참 쉽죠~~잉!!\n",
            "Python Is Easy. Programming 참 쉽죠~~잉!!\n"
          ]
        }
      ]
    }
  ]
}