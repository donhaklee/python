{
  "nbformat": 4,
  "nbformat_minor": 0,
  "metadata": {
    "colab": {
      "provenance": [],
      "collapsed_sections": [],
      "include_colab_link": true
    },
    "kernelspec": {
      "name": "python3",
      "display_name": "Python 3"
    },
    "language_info": {
      "name": "python"
    }
  },
  "cells": [
    {
      "cell_type": "markdown",
      "metadata": {
        "id": "view-in-github",
        "colab_type": "text"
      },
      "source": [
        "<a href=\"https://colab.research.google.com/github/donhaklee/python/blob/main/Day06.ipynb\" target=\"_parent\"><img src=\"https://colab.research.google.com/assets/colab-badge.svg\" alt=\"Open In Colab\"/></a>"
      ]
    },
    {
      "cell_type": "code",
      "execution_count": null,
      "metadata": {
        "id": "5Ix3-DNvc_cq"
      },
      "outputs": [],
      "source": [
        "# while 반복문\n",
        "# 조건에 따라서 반복을 수행할 수 있게 하기 위한 문장\n",
        "# 조건이 참이면 반복, 조건이 거짓이면 반복 종료\n",
        " \n",
        "# 일단 for문과 while문의 차이는 파이썬 뿐만 아니라 다른 언어에서도 대부분 같은 원리로 \n",
        "# 구성되어있습니다. while문은 while('조건')의 조건이 참인 동안 반복입니다.\n",
        "# while문이나 외부 입력으로 조건에서 벗어나지 못하도록 만들면 무한루프로 작동하게 되는 겁니다.\n",
        "# 예를 들어 while(a=4) 라고 해놨는데 반복문 내부의 코드가 a를 4로 만들지 못하면 \n",
        "# 계속 반복되는 형태입니다.\n",
        " \n",
        "# for 문은 리스트, 튜플, 제너레이터와 같은 iterable 객체에서 순서대로 순서대로 \n",
        "# 각 item을 실행문에서 처리하는 제어문입니다.\n",
        " \n",
        "# iterable 객체를 순차적으로 동일한 처리하기 원할 때 for문을 사용하시는 것이 편리하고, \n",
        "# 종료시점을 실행하기 전에 명확히 알기 어렵거나 iterable 객체를 순차적으로 \n",
        "# 처리하는 것이 아닌 경우 while문을 사용하시는 것이 편리합니다.\n",
        " \n",
        "# 문법\n",
        "# while 조건식:\n",
        "#      \t\t반복 실행 코드 1\n",
        "#      \t\t반복 실행 코드 2\n",
        "# while ... else\n",
        "# 중첩 while\n",
        "# break, continue\n"
      ]
    },
    {
      "cell_type": "code",
      "source": [
        "cnt = 0\n",
        "while cnt <= 9:\n",
        "  print('while 반복')\n",
        "  cnt = cnt + 1"
      ],
      "metadata": {
        "colab": {
          "base_uri": "https://localhost:8080/"
        },
        "id": "vO0dC-wyf2jV",
        "outputId": "28e4a6fd-51fc-46d6-c0d2-4e7ee0cd5fca"
      },
      "execution_count": null,
      "outputs": [
        {
          "output_type": "stream",
          "name": "stdout",
          "text": [
            "while 반복\n",
            "while 반복\n",
            "while 반복\n",
            "while 반복\n",
            "while 반복\n",
            "while 반복\n",
            "while 반복\n",
            "while 반복\n",
            "while 반복\n",
            "while 반복\n"
          ]
        }
      ]
    },
    {
      "cell_type": "code",
      "source": [
        "# 로또 번호 6개 생성 할 때 중복 없이 6개 생성\n",
        "from random import randint\n",
        " \n",
        "cnt = 0\n",
        "lot = ''\n",
        "while cnt < 6:\n",
        "    rand = randint(1, 45)\n",
        "    if str(rand) not in lot:\n",
        "        lot = lot + '{:02} '.format(rand)\n",
        "        cnt = cnt + 1\n",
        "print(lot)"
      ],
      "metadata": {
        "colab": {
          "base_uri": "https://localhost:8080/"
        },
        "id": "Qaw3dJOrg048",
        "outputId": "8ca4591d-be7b-41a8-efbd-2c64f4767366"
      },
      "execution_count": null,
      "outputs": [
        {
          "output_type": "stream",
          "name": "stdout",
          "text": [
            "40 35 25 11 39 42 \n"
          ]
        }
      ]
    },
    {
      "cell_type": "code",
      "source": [
        "while True: # 무한 반복\n",
        "    userin = input('정수형 데이터 : ')\n",
        "    integer = False\n",
        "    for x in userin:\n",
        "        if x not in '0123456789':\n",
        "            break\n",
        "    else:\n",
        "        userin = int(userin)\n",
        "        integer = True\n",
        "    \n",
        "    if not integer:\n",
        "        print('올바른 입력 값이 아닙니다.')\n",
        "        break"
      ],
      "metadata": {
        "colab": {
          "base_uri": "https://localhost:8080/"
        },
        "id": "6n39GxGzheh9",
        "outputId": "27b4bf97-16ae-4ed8-88d9-445c70ca6464"
      },
      "execution_count": null,
      "outputs": [
        {
          "output_type": "stream",
          "name": "stdout",
          "text": [
            "정수형 데이터 : 5\n",
            "정수형 데이터 : 6\n",
            "정수형 데이터 : 7\n",
            "정수형 데이터 : 1\n",
            "정수형 데이터 : 0\n",
            "정수형 데이터 : 90\n",
            "정수형 데이터 : 100\n",
            "정수형 데이터 : x\n",
            "올바른 입력 값이 아닙니다.\n"
          ]
        }
      ]
    },
    {
      "cell_type": "code",
      "source": [
        "# 10 ~ 99 까지 반복 출력하는 while 문을 작성하시오.\n",
        "x = 10\n",
        "while x < 100:\n",
        "  print(x,end=' ')\n",
        "  x += 1"
      ],
      "metadata": {
        "colab": {
          "base_uri": "https://localhost:8080/"
        },
        "id": "eC6L0AHHiNPn",
        "outputId": "84d0e282-7763-4d46-85f6-de33f166f16c"
      },
      "execution_count": null,
      "outputs": [
        {
          "output_type": "stream",
          "name": "stdout",
          "text": [
            "10 11 12 13 14 15 16 17 18 19 20 21 22 23 24 25 26 27 28 29 30 31 32 33 34 35 36 37 38 39 40 41 42 43 44 45 46 47 48 49 50 51 52 53 54 55 56 57 58 59 60 61 62 63 64 65 66 67 68 69 70 71 72 73 74 75 76 77 78 79 80 81 82 83 84 85 86 87 88 89 90 91 92 93 94 95 96 97 98 99 "
          ]
        }
      ]
    },
    {
      "cell_type": "code",
      "source": [
        "# 대문자 A ~ Z, 소문자 a ~ z 까지 반복 출력하는 while 문을 작성하시오.\n",
        "x = 64\n",
        "while x < 122:\n",
        "    x = x + 1\n",
        "    if 91 <= x <= 96:\n",
        "        continue\n",
        "    else:\n",
        "        print(chr(x),end='')"
      ],
      "metadata": {
        "colab": {
          "base_uri": "https://localhost:8080/"
        },
        "id": "dcozErrkkd03",
        "outputId": "93852c23-8719-4a10-e13c-110f1b2107ed"
      },
      "execution_count": null,
      "outputs": [
        {
          "output_type": "stream",
          "name": "stdout",
          "text": [
            "ABCDEFGHIJKLMNOPQRSTUVWXYZabcdefghijklmnopqrstuvwxyz"
          ]
        }
      ]
    },
    {
      "cell_type": "code",
      "source": [
        "# 10 ~ 99 까지의 누적 합을 구하는 while 문을 작성 하시오.\n",
        "x = 10\n",
        "tot = 0\n",
        "while x < 100:\n",
        "  tot = tot + x\n",
        "  x = x + 1\n",
        "print(tot)"
      ],
      "metadata": {
        "colab": {
          "base_uri": "https://localhost:8080/"
        },
        "id": "QiGUxc9hoIRQ",
        "outputId": "901eb6e2-853e-4d4a-df3e-f149bd5180db"
      },
      "execution_count": null,
      "outputs": [
        {
          "output_type": "stream",
          "name": "stdout",
          "text": [
            "4905\n"
          ]
        }
      ]
    },
    {
      "cell_type": "code",
      "source": [
        "cnt = 0\n",
        "total = 0\n",
        "while True:\n",
        "    cnt += 1\n",
        "    total += cnt\n",
        "    if cnt == 100:\n",
        "        break\n",
        "print(f'1 to 100 as the sum is {total}')"
      ],
      "metadata": {
        "colab": {
          "base_uri": "https://localhost:8080/"
        },
        "id": "mHln2Ta_sUAZ",
        "outputId": "c36add65-0028-4525-ebfc-742e8babb112"
      },
      "execution_count": null,
      "outputs": [
        {
          "output_type": "stream",
          "name": "stdout",
          "text": [
            "1 to 100 as the sum is 5050\n"
          ]
        }
      ]
    },
    {
      "cell_type": "code",
      "source": [
        "# 소문자로만 된 8자리 암호 10개 생성\n",
        "from random import random,sample\n",
        "R = 1\n",
        "i = 1\n",
        "while R <= 10:\n",
        "    for C in sample(range(97,123),8):\n",
        "        if not i % 8 :\n",
        "            print(chr(C),end='\\n')\n",
        "        else:\n",
        "            print(chr(C),end='')\n",
        "        i += 1\n",
        "    R += 1"
      ],
      "metadata": {
        "id": "Cfj8EHRgtKjp"
      },
      "execution_count": null,
      "outputs": []
    },
    {
      "cell_type": "code",
      "source": [
        "# 대,소문자 및 숫자를 포함한 비밀번호 16자리 10개 생성하기\n",
        "# range(65,91) # 대문자\n",
        "# range(97,123) # 소문자\n",
        "# range(48,58) # 숫자\n",
        "from random import random,sample\n",
        "R,i = 1,1\n",
        "while R <= 10 :\n",
        "    for C in sample(range(48,123),16):\n",
        "    # for C in range(48,123):\n",
        "        if (57 < C < 65) or (90 < C < 97):\n",
        "          pass\n",
        "        elif not i % 16:\n",
        "            print(chr(C),end='\\n')\n",
        "        else:\n",
        "            print(chr(C),end='')\n",
        "        i += 1\n",
        "    R += 1"
      ],
      "metadata": {
        "id": "DH-kSvYntzBy"
      },
      "execution_count": null,
      "outputs": []
    },
    {
      "cell_type": "code",
      "source": [
        "# for를 while문으로 변경해 보기\n",
        "fruitlist = ['Apple','banana','orange','mango','kiwi']\n",
        "for fruit in fruitlist:\n",
        "    if fruit == 'mango':\n",
        "        print(f'I feel like a {fruit}')\n",
        "        break\n",
        "    print(fruit)\n",
        "else:\n",
        "    print('Good choice')\n",
        "\n",
        "fruit = 0\n",
        "fruitlist = ['Apple','banana','orange','mango','kiwi']\n",
        "while fruit <= len(fruitlist):\n",
        "  fruit += 1\n",
        "  if fruitlist[fruit] == 'mango':\n",
        "      print(f'I feel like a {fruitlist[fruit]}')\n",
        "      break\n",
        "  print(fruitlist)\n",
        "else:\n",
        "    print('Good choice')"
      ],
      "metadata": {
        "colab": {
          "base_uri": "https://localhost:8080/"
        },
        "id": "1D5SwZ6A7geF",
        "outputId": "46073d15-894a-433a-96ab-8ce359df811d"
      },
      "execution_count": null,
      "outputs": [
        {
          "output_type": "stream",
          "name": "stdout",
          "text": [
            "Apple\n",
            "banana\n",
            "orange\n",
            "I feel like a mango\n",
            "['Apple', 'banana', 'orange', 'mango', 'kiwi']\n",
            "['Apple', 'banana', 'orange', 'mango', 'kiwi']\n",
            "I feel like a mango\n"
          ]
        }
      ]
    },
    {
      "cell_type": "code",
      "source": [
        "'''\n",
        "사칙연산 자동 출제 프로그램\n",
        " \n",
        "    프로그램 기본 기능\n",
        "        더하기, 빼기, 곱하기, 나누기 문제가 임의로 출제가 되도록 한다.\n",
        "        연산을 위한 2개의 값은 기본 1 ~ 99 까지 임의로 생성되도록 한다.\n",
        "        빼기, 나누기 문제의 경우 큰 값에서 작은 값을 빼거나, 나누도록 한다.\n",
        "        나누기 문제의 경우 계산 결과가 소수점 2자리 까지만 나오게 하여 비교한다.\n",
        "        정답을 입력하면, +10점\n",
        "        오답을 입력하면, - 7점\n",
        "        총 점수가 100점 이상이 되는 경우 프로그램 중단\n",
        " \n",
        "    프로그램 추가 기능\n",
        "        연산을 위한 2개의 값의 범위를 사용자가 최소값, 최대값 형태로 변경 가능\n",
        "        목표 점수 설정을 통해서 총 점수가 목표 점수를 넘기면 프로그램 중단.\n",
        "'''\n",
        "from random import random\n",
        "jumsu = 0\n",
        "while True:\n",
        "    num1 = int(random() * 99) + 1\n",
        "    num2 = int(random() * 99) + 1\n",
        "    op = int(random() * 4)\n",
        " \n",
        "    if op == 0: # 더하기\n",
        "        print(f'{num1} + {num2} = ', end='')\n",
        "        result = num1 + num2\n",
        "    elif op == 1: # 빼기\n",
        "        if num1 < num2:\n",
        "            num1, num2 = num2, num1\n",
        "        print(f'{num1} - {num2} = ', end='')\n",
        "        result = num1 - num2\n",
        "    elif op == 2: # 곱하기\n",
        "        print(f'{num1} * {num2} = ', end='')\n",
        "        result = num1 * num2\n",
        "    elif op == 3: # 나누기\n",
        "        if num1 < num2:\n",
        "            num1, num2 = num2, num1\n",
        "        print(f'{num1} / {num2} = ', end='')\n",
        "        result = num1 // num2\n",
        " \n",
        "  answer = float(input())\n",
        "    if result == answer:\n",
        "        print('정답!!')\n",
        "        jumsu += 10\n",
        "    else:\n",
        "        print('오답!!')\n",
        "        jumsu -= 7\n",
        " \n",
        "    print('현재 점수 : {}\\n\\n'.format(jumsu))\n",
        " \n",
        "    if jumsu >= 100:\n",
        "        break\n"
      ],
      "metadata": {
        "id": "rC_0qBWURFNl"
      },
      "execution_count": null,
      "outputs": []
    },
    {
      "cell_type": "code",
      "source": [
        "# 중첩 while 또는 어려운 문제\n",
        " \n",
        "# 시리얼 번호 생성 프로그램\n",
        "#     1. 시리얼 번호는 대문자 / 숫자로 구성 된다.\n",
        "#     2. 시리얼 번호 길이는 8, 12, 16, 20, 24 자리중 하나를 선택하여 생성할 수\n",
        "#        있게 한다.\n",
        "#     3. 시리얼 번호의 대문자 숫자 생성 비율은 1(숫자):3(대문자)으로 한다.\n",
        "#     4. 시리얼 번호의 대문자 중복은 1번만 허용 한다.\n",
        "#     5. 위의 조건을 만족하는 시리얼 번호는 사용자가 원하는 수량 만큼 생성 한다.\n",
        " \n",
        "from random import randint\n",
        "while True:\n",
        "    length = input('시리얼 번호 길이 입력(8, 12, 16, 20, 24) : ')\n",
        "    if length in ('8', '12', '16', '20', '24'):\n",
        "        length = int(length)\n",
        "        break\n",
        "    else:\n",
        "        print('지정된 값만 입력하시오.')\n",
        "while True:\n",
        "    count = input('시리얼 번호 생성 갯수 : ')\n",
        "    if count.isnumeric():\n",
        "        count = int(count)\n",
        "        break\n",
        "for x in range(count):\n",
        "    serial = ''\n",
        "    while len(serial) < length:\n",
        "        rate = randint(0, 3) #[0, 1, 2, 3]\n",
        "        if rate == 2:\n",
        "            serial += str(randint(0, 9))      # 숫자\n",
        "        else:\n",
        "            randstr = chr(randint(65, 90))    # 대문자\n",
        "            # 중복은 1번만 허용\n",
        "            cnt = 0\n",
        "            for char in serial:\n",
        "                if randstr == char:\n",
        "                    cnt += 1\n",
        "                    if cnt == 2:\n",
        "                        break\n",
        "            else:\n",
        "                serial += randstr\n",
        "    else:\n",
        "        print(serial)"
      ],
      "metadata": {
        "id": "dMX0HaYTipVg"
      },
      "execution_count": null,
      "outputs": []
    },
    {
      "cell_type": "code",
      "source": [
        "# List(리스트) 자료형\n",
        "# 기호 : []\n",
        "\n",
        "# 리스트의 특징\n",
        "# 리스트는 collection의 일종으로 , 다음과 같은 특징을 가지고 있습니다.\n",
        "# 리스트는 대괄호[]로 둘러싸여 있고, 리스트 원소는 콤마 으로 구분됩니다\n",
        "# 리스트는 파이썬의 어떤 객체도 원소로 넣을 수 있습니다.(다른 컬렉션도 가능)\n",
        "# 빈 리스트를 생성할 수 있습니다.\n",
        "# 번호(Index Number)에 의해 접근 가능\n",
        "# Iterable Type : 반복 가능 자료형으로 for 반복문에 의해 사용 할 수 있는 자료형\n",
        "# Mutation Type : 변경 가능, 리스트 자료의 요소를 추가/수정/삭제 할 수 있다.\n",
        "# Collection\n",
        "# Collection 은 수집, 모음 이라는 뜻입니다. Python에서 Collection은 여러 개의 값들을 \n",
        "# 수집할 수 있는 자료 구조를 말합니다. 리스트, 딕셔너리, 튜플이 collection에 해당합니다.\n",
        "# 리스트의 내부\n",
        "# 리스트는 위치가 정해져있고 순서를 가지고 있습니다.\n",
        "# 우리는 그 순서를 인덱스(index)라고 합니다.\n",
        "# 인덱스를 이용해 리스트의 원소를 하나하나 가져올 수 있습니다.\n",
        "# 인덱스는 0부터 시작하며, 원소 갯수 만큼 순차적으로 증가합니다.\n",
        "\n",
        "# 리스트와 문자열의 차이 : list are Mutable\n",
        "# 문자열도 리스트와 마찬가지로 인덱스를 가져와서 문자 하나씩 읽을 수 있습니다.\n",
        "# string = ‘abc’\n",
        "# print(string.index(‘a))\n",
        "# print(string[0])\n"
      ],
      "metadata": {
        "id": "bPrmpSJhiu6A"
      },
      "execution_count": null,
      "outputs": []
    },
    {
      "cell_type": "code",
      "source": [
        "try:\n",
        "    string = 'God is love'\n",
        "#    print(string[0])\n",
        "    string[0] = 'J'\n",
        "except TypeError:\n",
        "    print(f'TypeError')"
      ],
      "metadata": {
        "colab": {
          "base_uri": "https://localhost:8080/"
        },
        "id": "8fy3X3EVkifJ",
        "outputId": "013ec18b-e562-456a-e9d9-a210e8af1a7c"
      },
      "execution_count": null,
      "outputs": [
        {
          "output_type": "stream",
          "name": "stdout",
          "text": [
            "TypeError\n"
          ]
        }
      ]
    },
    {
      "cell_type": "code",
      "source": [
        "list_1 = ['God','is','love']\n",
        "list_1[0] = 'Jesus'\n",
        "print(list_1)"
      ],
      "metadata": {
        "colab": {
          "base_uri": "https://localhost:8080/"
        },
        "id": "we5nbjlKkw-p",
        "outputId": "afb8e9b5-79fb-4a23-f37d-bf98ba7084cc"
      },
      "execution_count": null,
      "outputs": [
        {
          "output_type": "stream",
          "name": "stdout",
          "text": [
            "['Jesus', 'is', 'love']\n"
          ]
        }
      ]
    },
    {
      "cell_type": "code",
      "source": [
        "# 빈 리스트 생성\n",
        "list_1 = []\n",
        "print(list_1,type(list_1))"
      ],
      "metadata": {
        "colab": {
          "base_uri": "https://localhost:8080/"
        },
        "id": "2D2grxGhk8VQ",
        "outputId": "681503fa-fd90-4228-cd34-edb26163bf93"
      },
      "execution_count": null,
      "outputs": [
        {
          "output_type": "stream",
          "name": "stdout",
          "text": [
            "[] <class 'list'>\n"
          ]
        }
      ]
    },
    {
      "cell_type": "code",
      "source": [
        "# 요소가 있는 리스트 생성\n",
        "list_1 = [1,2,3,4] \n",
        "print(list_1,type(list_1))"
      ],
      "metadata": {
        "colab": {
          "base_uri": "https://localhost:8080/"
        },
        "id": "ZZSo_sTOlG6z",
        "outputId": "bd02a79a-f02f-4afe-904a-fe1e1e37e037"
      },
      "execution_count": null,
      "outputs": [
        {
          "output_type": "stream",
          "name": "stdout",
          "text": [
            "[1, 2, 3, 4] <class 'list'>\n"
          ]
        }
      ]
    },
    {
      "cell_type": "code",
      "source": [
        "# list변환함수를 사용하여 튜플을 리스트 변환하기\n",
        "list_1 = list((1, 2, 3, 4))\n",
        "print(list_1, type(list_1))"
      ],
      "metadata": {
        "colab": {
          "base_uri": "https://localhost:8080/"
        },
        "id": "nSkeCXv3lP9A",
        "outputId": "be50a8ef-4673-446e-e9b9-01e10307d6fa"
      },
      "execution_count": null,
      "outputs": [
        {
          "output_type": "stream",
          "name": "stdout",
          "text": [
            "[1, 2, 3, 4] <class 'list'>\n"
          ]
        }
      ]
    },
    {
      "cell_type": "code",
      "source": [
        "# 리스트는 Indexing / Slicing을 사용 할 수 있다.\n",
        "list_1 = [1, 2, 3, 4, 5, 6, 7, 8, 9, 0]\n",
        "print(list_1[0], list_1[-1]) #1 0\n",
        "print(list_1[:3], list_1[-3:])#[1, 2, 3] [8, 9, 0]\n",
        "print(list_1[1:3], list_1[-3:-2])#[2, 3] [8]"
      ],
      "metadata": {
        "colab": {
          "base_uri": "https://localhost:8080/"
        },
        "id": "KAFeYOHulnxr",
        "outputId": "3c06fd1c-4620-4c4e-c938-f0b9ac318398"
      },
      "execution_count": null,
      "outputs": [
        {
          "output_type": "stream",
          "name": "stdout",
          "text": [
            "1 0\n",
            "[1, 2, 3] [8, 9, 0]\n",
            "[2, 3] [8]\n"
          ]
        }
      ]
    },
    {
      "cell_type": "code",
      "source": [
        "# 리스트도 Unpacking을 사용 할 수 있다.(단, Packing은 안됨)\n",
        "list_1 = [1, 2, 3]\n",
        "list_1_1, list_1_2, list_1_3 = list_1  # Unpacking\n",
        "print(list_1_1, list_1_2, list_1_3) #1 2 3\n"
      ],
      "metadata": {
        "colab": {
          "base_uri": "https://localhost:8080/"
        },
        "id": "yKTLVTdvmhwC",
        "outputId": "70e09786-490b-4cde-9f05-88d65b7a5d1c"
      },
      "execution_count": null,
      "outputs": [
        {
          "output_type": "stream",
          "name": "stdout",
          "text": [
            "1 2 3\n"
          ]
        }
      ]
    },
    {
      "cell_type": "code",
      "source": [
        "# N차 리스트에 대한 접근 방식.\n",
        "list_1 = [[1, 2, 3], [4, 5, 6], [7, 8, 9]]\n",
        "print(list_1[0])\n",
        "print(list_1[1])\n",
        "print(list_1[2])\n",
        "print(list_1[0][2], list_1[1][1], list_1[2][0]) #3 5 7\n"
      ],
      "metadata": {
        "colab": {
          "base_uri": "https://localhost:8080/"
        },
        "id": "IK2rLDzGmxTR",
        "outputId": "d0895ac8-dfd0-4cf1-b1c5-77c2ee4411c9"
      },
      "execution_count": null,
      "outputs": [
        {
          "output_type": "stream",
          "name": "stdout",
          "text": [
            "[1, 2, 3]\n",
            "[4, 5, 6]\n",
            "[7, 8, 9]\n",
            "3 5 7\n"
          ]
        }
      ]
    },
    {
      "cell_type": "code",
      "source": [
        "# Indexing / Slicing을 통한 요소 수정\n",
        "list_1 = [1, 2, 3]\n",
        "print(list_1)\n",
        "\n",
        "list_1[0] = 'a'\n",
        "print(list_1)\n",
        " \n",
        "list_1 = [1, 2, 3]\n",
        "print(list_1)\n",
        "\n",
        "list_1[0:2] = 'a', 'b'\n",
        "print(list_1)\n"
      ],
      "metadata": {
        "colab": {
          "base_uri": "https://localhost:8080/"
        },
        "id": "dsGd8QK6nZra",
        "outputId": "7c97a9b9-6333-41f2-fa02-16a5b3c78fe4"
      },
      "execution_count": null,
      "outputs": [
        {
          "output_type": "stream",
          "name": "stdout",
          "text": [
            "[1, 2, 3]\n",
            "['a', 2, 3]\n",
            "[1, 2, 3]\n",
            "['a', 'b', 3]\n"
          ]
        }
      ]
    },
    {
      "cell_type": "code",
      "source": [
        "# 리스트 자료형에 요소 추가.\n",
        "list_1 = []\n",
        "list_1 = list_1 + [1, 2, 3]\n",
        "print(list_1) #[1, 2, 3]\n",
        "\n",
        "list_1[3:] = [4, 5, 6, 7]\n",
        "print(list_1) #[1, 2, 3, 4, 5, 6, 7]"
      ],
      "metadata": {
        "colab": {
          "base_uri": "https://localhost:8080/"
        },
        "id": "LCbkRf6OnxQS",
        "outputId": "601b73cf-c19a-4801-8846-ff47c2105b24"
      },
      "execution_count": null,
      "outputs": [
        {
          "output_type": "stream",
          "name": "stdout",
          "text": [
            "[1, 2, 3]\n",
            "[1, 2, 3, 4, 5, 6, 7]\n"
          ]
        }
      ]
    }
  ]
}