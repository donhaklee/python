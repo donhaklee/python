{
  "nbformat": 4,
  "nbformat_minor": 0,
  "metadata": {
    "colab": {
      "provenance": [],
      "collapsed_sections": [],
      "include_colab_link": true
    },
    "kernelspec": {
      "name": "python3",
      "display_name": "Python 3"
    },
    "language_info": {
      "name": "python"
    }
  },
  "cells": [
    {
      "cell_type": "markdown",
      "metadata": {
        "id": "view-in-github",
        "colab_type": "text"
      },
      "source": [
        "<a href=\"https://colab.research.google.com/github/donhaklee/python/blob/main/Day07.ipynb\" target=\"_parent\"><img src=\"https://colab.research.google.com/assets/colab-badge.svg\" alt=\"Open In Colab\"/></a>"
      ]
    },
    {
      "cell_type": "code",
      "execution_count": null,
      "metadata": {
        "id": "8SBgOPpdlB2G"
      },
      "outputs": [],
      "source": [
        "# 리스트 함수\n",
        "# 1.append(value) : 리스트의 마지막 요소에 value를 추가 한다.\n",
        "list_1 = []\n",
        "list_1.append(1)\n",
        "list_1.append('a')\n",
        "list_1.append(['b'])\n",
        "print(list_1)#[1, 'a', ['b']]"
      ]
    },
    {
      "cell_type": "code",
      "source": [
        "# 2. extend(iterable) : 리스트의 마지막 요소에 iterable의 요소들을 추가 한다.\n",
        "list_1 = []\n",
        "list_1.extend('abcd')\n",
        "list_1.extend([1, 2, 3])\n",
        "print(list_1) #['a', 'b', 'c', 'd', 1, 2, 3]\n"
      ],
      "metadata": {
        "id": "RTis-0Ieq5sR"
      },
      "execution_count": null,
      "outputs": []
    },
    {
      "cell_type": "code",
      "source": [
        "# 3. insert(index, value) : 리스트의 index 위치에 value를 추가 한다.\n",
        "list_1 = [1, 2, 3]\n",
        "list_1.insert(1, 'a')\n",
        "list_1.insert(2, 'b')\n",
        "list_1.insert(4, ['c', 'd'])\n",
        "print(list_1) #[1, 'a', 'b', 2, ['c', 'd'], 3]\n"
      ],
      "metadata": {
        "id": "nDZnDzOCrp_J"
      },
      "execution_count": null,
      "outputs": []
    },
    {
      "cell_type": "code",
      "source": [
        "# 4. pop([index]) : 리스트의 마지막 요소 값을 반환 후 삭제\n",
        "# index 값이 주어지는 경우 index 위치의 값을 반환 후 삭제\n",
        "list_1 = ['a', 'b', 'c', 'd']\n",
        "a = list_1.pop()\n",
        "b = list_1.pop(1)\n",
        "print(list_1) #['a', 'c'] b\n",
        "print(a)\n",
        "print(b)\n",
        "print(list_1, a, b) #['a', 'c'] b"
      ],
      "metadata": {
        "id": "E4mv8FoasW-5"
      },
      "execution_count": null,
      "outputs": []
    },
    {
      "cell_type": "code",
      "source": [
        "# 5. remove(value) : 리스트의 요소 중 value에 해당하는 요소 삭제\n",
        "list_1 = ['a', 'b', 'c', (1, 2), 'd']\n",
        "list_1.remove('b')\n",
        "list_1.remove((1, 2))\n",
        "print(list_1) #['a', 'c', 'd']\n"
      ],
      "metadata": {
        "id": "RxWfXoGbtdEI"
      },
      "execution_count": null,
      "outputs": []
    },
    {
      "cell_type": "code",
      "source": [
        "# 6. list copy functions\n",
        "list_1 = ['a','b','c',(1,2),'d']\n",
        "list_2 = list_1\n",
        "print(list_1 is list_2) # True 할당개념\n",
        "print(list_1,list_2)\n",
        " \n",
        "list_2 = list_1.copy()\n",
        "print(list_1 is list_2) # False 복사개념\n"
      ],
      "metadata": {
        "id": "LnorK3W2t_kO"
      },
      "execution_count": null,
      "outputs": []
    },
    {
      "cell_type": "code",
      "source": [
        "# 7. list del functions\n",
        "list_1 = ['a','b','c',(1,2),'d']\n",
        "list_2 = list_1.copy()\n",
        "print(f'Original : {list_2}')\n",
        "del list_2[0]\n",
        "print(f'After delete : {list_2}')\n"
      ],
      "metadata": {
        "id": "MTwXkHtZu154"
      },
      "execution_count": null,
      "outputs": []
    },
    {
      "cell_type": "code",
      "source": [
        "# 8. clear() : 리스트의 모든 요소 삭제\n",
        "list_1 = [1, 2, 3]\n",
        "list_1.clear()\n",
        "print(list_1) # []"
      ],
      "metadata": {
        "id": "FlA3psE3vVDA"
      },
      "execution_count": null,
      "outputs": []
    },
    {
      "cell_type": "code",
      "source": [
        "# 9. count(value) : 리스트의 요소 중 value에 해당하는 요소 갯수 반환\n",
        "list_1 = [1, 2, 3, 1, 2, 1]\n",
        "print(list_1.count(1)) # 3"
      ],
      "metadata": {
        "id": "_DseGveYvh6P"
      },
      "execution_count": null,
      "outputs": []
    },
    {
      "cell_type": "code",
      "source": [
        "# 10. index(value[, start_index]) : 리스트의 요소 중 value에 해당하는 요소의 index 반환, \n",
        "# start_index를 지정하면 start_index 부터 찾는다.\n",
        "list_1 = [1, 2, 3, 1, 2, 1]\n",
        "print(list_1.index(1)) # 0\n",
        "print(list_1.index(1, 1)) # 3\n"
      ],
      "metadata": {
        "id": "133hRSLQv7UH"
      },
      "execution_count": null,
      "outputs": []
    },
    {
      "cell_type": "code",
      "source": [
        "# 11. reverse() : 반전, 리스트 요소의 순서를 거꾸로 뒤집는다.\n",
        "list_1 = ['a', 'b', 'c', 'd']\n",
        "list_1.reverse()\n",
        "print(list_1) # ['d', 'c', 'b', 'a']\n"
      ],
      "metadata": {
        "colab": {
          "base_uri": "https://localhost:8080/"
        },
        "id": "NKrO5b7wwoWn",
        "outputId": "1c709e00-1b0a-4fcd-96f0-ebcc4f822ba2"
      },
      "execution_count": null,
      "outputs": [
        {
          "output_type": "stream",
          "name": "stdout",
          "text": [
            "['d', 'c', 'b', 'a']\n"
          ]
        }
      ]
    },
    {
      "cell_type": "code",
      "source": [
        "# 12. sort([reverse=True]) : 정렬, 리스트의 요소를 오름차순으로 정렬 한다. \n",
        "# reverse=True를 사용하면 내림차순으로 정렬 한다. \n",
        "# 정렬 할 때 문자열/정수, 문자열/실수 간의 정렬은 안된다.\n",
        "list_1 = ['g', 't', 'u', 'c']\n",
        "list_1.sort()\n",
        "print(list_1)#['c', 'g', 't', 'u']\n",
        "list_1.sort(reverse=True)\n",
        "print(list_1)#['u', 't', 'g', 'c']\n"
      ],
      "metadata": {
        "colab": {
          "base_uri": "https://localhost:8080/"
        },
        "id": "ICkU6TC3w3q3",
        "outputId": "d1735374-fb3f-47e0-e42a-de2234b9f3b4"
      },
      "execution_count": null,
      "outputs": [
        {
          "output_type": "stream",
          "name": "stdout",
          "text": [
            "['c', 'g', 't', 'u']\n",
            "['u', 't', 'g', 'c']\n"
          ]
        }
      ]
    },
    {
      "cell_type": "code",
      "source": [
        "# 13. len 함수 : 리스트의 원소 갯수 알아내기\n",
        "# 리스트를 매개 변수로 받아서 리스트의 원소 개수를 반환\n",
        "# len()는 아무 집합이나 시퀀스를 받아 원소의 개수를 반환\n",
        " \n",
        "string = 'God is love'\n",
        "print(len(string)) # 11\n",
        " \n",
        "list_1 = ['God', 'is', 'love']\n",
        "print(len(list_1)) # 3\n",
        " \n",
        "list_1 = ['God is love']\n",
        "print(len(list_1)) # 1\n"
      ],
      "metadata": {
        "id": "8NsOuQLaxjR_"
      },
      "execution_count": null,
      "outputs": []
    },
    {
      "cell_type": "code",
      "source": [
        "# 14. range 함수 : 인덱스 생성하기\n",
        "# range() 함수는 0 부터 ~ 매개변수-1값 까지의 숫자리스트를 반환합니다.\n",
        "print(range(4))\n",
        "friends = ['Joseph','Glenn','Sally']\n",
        "print(len(friends))\n",
        "print(range(len(friends)))\n"
      ],
      "metadata": {
        "id": "CDfOs5eJx4g2"
      },
      "execution_count": null,
      "outputs": []
    },
    {
      "cell_type": "code",
      "source": [
        "# 15. for문 , len 함수와 함께 인덱스 루프로 자주 사용됩니다.\n",
        "friends = ['Joseph','Glenn','Sally']\n",
        "# for friend in friends :\n",
        "#     print('Happy new year:', friend)\n",
        "for i in range(len(friends)):\n",
        "    friend = friends[i]\n",
        "    print('Happy new year:',friend)"
      ],
      "metadata": {
        "colab": {
          "base_uri": "https://localhost:8080/"
        },
        "id": "QQvqotR1yN4v",
        "outputId": "a02d0060-53e3-4f44-c808-c074effb8e47"
      },
      "execution_count": null,
      "outputs": [
        {
          "output_type": "stream",
          "name": "stdout",
          "text": [
            "Happy new year: Joseph\n",
            "Happy new year: Glenn\n",
            "Happy new year: Sally\n"
          ]
        }
      ]
    },
    {
      "cell_type": "code",
      "source": [
        "# 16. ”+” : 리스트 연결하기\n",
        "# 기존에 존재하는 두 리스트를 더하여 새로운 리스트를 생성할 때 사용합니다. \n",
        "# 마치 줄을 잇는 것 처럼 연결해줍니다.\n",
        "list_1 = [1,2,3]\n",
        "list_2 = [4,5,6]\n",
        "list_3 = list_1 + list_2\n",
        "print(list_3) #[1, 2, 3, 4, 5, 6]\n",
        "print(list_1) #[1, 2, 3]\n"
      ],
      "metadata": {
        "colab": {
          "base_uri": "https://localhost:8080/"
        },
        "id": "6lU_arK52N-G",
        "outputId": "698118e1-5c37-4fcc-ed0a-50f6c1fb4980"
      },
      "execution_count": null,
      "outputs": [
        {
          "output_type": "stream",
          "name": "stdout",
          "text": [
            "[1, 2, 3, 4, 5, 6]\n",
            "[1, 2, 3]\n"
          ]
        }
      ]
    },
    {
      "cell_type": "code",
      "source": [
        "# 17. ”:” : 리스트 자르기\n",
        "# range함수와 마찬가지로 괄호 안의 두번째 숫자 -1 까지만 포함합니다.\n",
        "# : 앞과 뒤가 공백일때는 처음부터 끝까지 포함합니다.\n",
        "list_1 = [9,41,12,3,74,15]\n",
        "print(list_1[1:3]) #[41, 12]\n",
        "print(list_1[:4]) # [9, 41, 12, 3]\n",
        "print(list_1[3:]) # [3, 74, 15]\n",
        "print(list_1[:]) # [9, 41, 12, 3, 74, 15]"
      ],
      "metadata": {
        "colab": {
          "base_uri": "https://localhost:8080/"
        },
        "id": "imGyJR_b2fbu",
        "outputId": "a4d468a2-eff0-4893-8326-71d32accf62b"
      },
      "execution_count": null,
      "outputs": [
        {
          "output_type": "stream",
          "name": "stdout",
          "text": [
            "[41, 12]\n",
            "[9, 41, 12, 3]\n",
            "[3, 74, 15]\n",
            "[9, 41, 12, 3, 74, 15]\n"
          ]
        }
      ]
    },
    {
      "cell_type": "code",
      "source": [
        "# 18. 리스트 메서드 활용하기\n",
        "list_1 = []\n",
        "print(type(list_1))\n",
        "print(dir(list_1))\n"
      ],
      "metadata": {
        "colab": {
          "base_uri": "https://localhost:8080/"
        },
        "id": "6Swy--1P26Hk",
        "outputId": "c2c277c2-dc6a-4ace-f8aa-c5d740a497bf"
      },
      "execution_count": null,
      "outputs": [
        {
          "output_type": "stream",
          "name": "stdout",
          "text": [
            "<class 'list'>\n",
            "['__add__', '__class__', '__contains__', '__delattr__', '__delitem__', '__dir__', '__doc__', '__eq__', '__format__', '__ge__', '__getattribute__', '__getitem__', '__gt__', '__hash__', '__iadd__', '__imul__', '__init__', '__init_subclass__', '__iter__', '__le__', '__len__', '__lt__', '__mul__', '__ne__', '__new__', '__reduce__', '__reduce_ex__', '__repr__', '__reversed__', '__rmul__', '__setattr__', '__setitem__', '__sizeof__', '__str__', '__subclasshook__', 'append', 'clear', 'copy', 'count', 'extend', 'index', 'insert', 'pop', 'remove', 'reverse', 'sort']\n"
          ]
        }
      ]
    },
    {
      "cell_type": "code",
      "source": [
        "# 19. in , not in : 리스트 원소 탐색\n",
        "# 파이썬에서는 특정원소가 리스트에 있는지 확인할 수 있는 2가지 연산자를 제공합니다.\n",
        "# True, False를 반환하는 논리연산자입니다.\n",
        " \n",
        "list_1 = [1,9,21,10,16]\n",
        "print(9 in list_1) #True\n",
        "print(15 in list_1) # False\n",
        "print(20 not in list_1) #True"
      ],
      "metadata": {
        "colab": {
          "base_uri": "https://localhost:8080/"
        },
        "id": "2CrweBZH3VVl",
        "outputId": "a993e8a3-47d2-4d28-c2ae-8abb0facc962"
      },
      "execution_count": null,
      "outputs": [
        {
          "output_type": "stream",
          "name": "stdout",
          "text": [
            "True\n",
            "False\n",
            "True\n"
          ]
        }
      ]
    },
    {
      "cell_type": "code",
      "source": [
        "# 20. 기타 내장함수\n",
        "# 리스트를 매개변수로 받는 내장함수는 여러가지 있습니다.\n",
        "list_1 = [1, 2, 3, 4, 5]\n",
        "print(f'The sum of numbers within list_1 is {sum(list_1)}.')\n",
        "print(f'The max of numbers within list_1 is {max(list_1)}.')\n",
        "print(f'The min of numbers within list_1 is {min(list_1)}.')\n",
        "print(f'The average of numbers within list_1 is {sum(list_1)//len(list_1)}.')\n"
      ],
      "metadata": {
        "id": "z7_V7WlZ3mgX"
      },
      "execution_count": null,
      "outputs": []
    },
    {
      "cell_type": "code",
      "source": [
        "# 21. 리스트내의 숫자의 합계를 sum 함수 없이 구할때, total, cnt 변수 생성\n",
        "# 리스트내의 숫자의 길이값을 iterable로 사용\n",
        "list_1 = [1, 2, 3, 4, 5]\n",
        "total = 0\n",
        "for cnt in range(len(list_1)):\n",
        "    total = total + list_1[cnt]\n",
        "print(f'The sum of numbers within list_1 is {total}.')\n",
        " \n",
        "# The sum of numbers within list_1 is 15.\n",
        "# The max of numbers within list_1 is 5.\n",
        "# The min of numbers within list_1 is 1.\n",
        "# The average of numbers within list_1 is 3.\n"
      ],
      "metadata": {
        "id": "1HmbJ03139yM"
      },
      "execution_count": null,
      "outputs": []
    },
    {
      "cell_type": "code",
      "source": [
        "# 22. 리스트 함축식 (Comprehension)\n",
        "list_1 = [x for x in range(10)]\n",
        "list_2 = [x for x in range(10) if x > 5]\n",
        "print(list_1)\n",
        "print(list_2)"
      ],
      "metadata": {
        "colab": {
          "base_uri": "https://localhost:8080/"
        },
        "id": "kzNtaHFp5Jns",
        "outputId": "b31b699a-6d7a-465c-8a6b-5c5179c8472e"
      },
      "execution_count": null,
      "outputs": [
        {
          "output_type": "stream",
          "name": "stdout",
          "text": [
            "[0, 1, 2, 3, 4, 5, 6, 7, 8, 9]\n",
            "[6, 7, 8, 9]\n"
          ]
        }
      ]
    },
    {
      "cell_type": "code",
      "source": [
        "# 23. 리스트 함축식\n",
        "list_1 = [chr(x) for x in range(97, 123)]\n",
        "print(list_1)\n",
        "\n",
        "# list to string\n",
        "list_1=''.join(list_1)\n",
        "print(list_1)"
      ],
      "metadata": {
        "colab": {
          "base_uri": "https://localhost:8080/"
        },
        "id": "FOeW7WLn6Dxw",
        "outputId": "c409aee5-2a3b-4002-b814-5e1fa9858385"
      },
      "execution_count": null,
      "outputs": [
        {
          "output_type": "stream",
          "name": "stdout",
          "text": [
            "['a', 'b', 'c', 'd', 'e', 'f', 'g', 'h', 'i', 'j', 'k', 'l', 'm', 'n', 'o', 'p', 'q', 'r', 's', 't', 'u', 'v', 'w', 'x', 'y', 'z']\n",
            "abcdefghijklmnopqrstuvwxyz\n"
          ]
        }
      ]
    },
    {
      "cell_type": "code",
      "source": [
        "# 연습문제\n",
        "# 코드 작성 시나리오 1\n",
        "# 1. False 일때 까지 반복하는 루프문 생성(while)\n",
        "# 2. 숫자 입력 받기\n",
        "# 3. done 을 입력받으면 반복문 끝내기\n",
        "# 4. 입력받은 숫자는 문자열이니까 float형태로 변환하기\n",
        "# 5. 입력받은 숫자들의 합계를 total에 저장하기\n",
        "# 6. 입력받은 숫자들의 개수를 count에 저장하기\n",
        "# 7. 합계/개수 를 average에 저장하기\n",
        "# 8. average 값 출력하기\n",
        "\n",
        "#변수 초기화\n",
        "total,count = 0,0\n",
        " \n",
        "#while 무한 루프\n",
        "while True:\n",
        "    num1 = input('Enter a number: ')\n",
        "    if num1 == 'done': \n",
        "        break\n",
        "    value = float(num1)\n",
        "    total = total + value\n",
        "    count = count +1\n",
        "average = total/count\n",
        "print('Average:', average)"
      ],
      "metadata": {
        "id": "EUUZnDNX6-Sk"
      },
      "execution_count": null,
      "outputs": []
    },
    {
      "cell_type": "code",
      "source": [
        "# 코드 작성 시나리오 2\n",
        "# 1. 입력된 숫자를 보관할 리스트 생성\n",
        "# 2. False일 때까지 반복하는 반복문 생성\n",
        "# 3. 숫자 입력 받기\n",
        "# 4.‘done’을 입력받으면 반복문 끝내기\n",
        "# 5. 입력받은 문자열을 float으로 변환\n",
        "# 6. 리스트에 입력값 추가\n",
        "# 7. (리스트 합계) / (리스트의 원소갯수)로 평균구하기\n",
        "# 8. average값 출력하기\n",
        "\n",
        "numlist = list()\n",
        "while True:\n",
        "    num1 = input('Enter a number:')\n",
        "    if num1 == 'done' : break\n",
        "    value = float(num1)\n",
        "    numlist.append(value)\n",
        " \n",
        "average = sum(numlist)/len(numlist)\n",
        "print('Average:', average)"
      ],
      "metadata": {
        "id": "XaQNkLi57rOL"
      },
      "execution_count": null,
      "outputs": []
    },
    {
      "cell_type": "code",
      "source": [
        "# [1, 3, 11, 15, 23, 28, 37, 52, 85, 100] 와 같은 리스트 객체가 주어졌을 때 \n",
        "# 짝수만 항목으로 가지는 리스트 객체를 생성하는 코드를 작성하십시오.\n",
        "list_1 = [1, 3, 11, 15, 23, 28, 37, 52, 85, 100] \n",
        "result = [x for x in list_1 if not x % 2]\n",
        "print(result)"
      ],
      "metadata": {
        "colab": {
          "base_uri": "https://localhost:8080/"
        },
        "id": "1cla5v6IbNRj",
        "outputId": "f3b1f83c-5e59-4002-8449-12f1747141c6"
      },
      "execution_count": null,
      "outputs": [
        {
          "output_type": "stream",
          "name": "stdout",
          "text": [
            "[28, 52, 100]\n"
          ]
        }
      ]
    },
    {
      "cell_type": "code",
      "source": [
        "# 단어를 10개를 입력받아 리스트에 담고 그 단어들을 사전순으로 정렬해 \n",
        "# 출력하는 프로그램을 작성하십시오..\n",
        "cnt = 0\n",
        "t_list = []\n",
        "while cnt < 11:\n",
        "    a = input('Enter the word: ')\n",
        "    t_list.append(a)\n",
        "    cnt += 1\n",
        "    t_list.sort()\n",
        "print(t_list)"
      ],
      "metadata": {
        "id": "Jc8DwCpDbplp"
      },
      "execution_count": null,
      "outputs": []
    },
    {
      "cell_type": "code",
      "source": [
        "# 다음 문장을 공백이 제거된 리스트로 생성하여 출력하세요.\n",
        "# sentence = 'The world that we are in, more and more to be sick.'\n",
        "sentence = 'The world that we are in, more and more to be sick.'\n",
        " \n",
        "sentence = list(sentence)\n",
        "for x in sentence:\n",
        "    if x == chr(32):\n",
        "        sentence.remove(x)\n",
        "sentence=''.join(sentence)\n",
        "print(sentence)"
      ],
      "metadata": {
        "id": "yRzvr97vb5sT"
      },
      "execution_count": null,
      "outputs": []
    },
    {
      "cell_type": "code",
      "source": [
        "# Tuple(튜플) 자료형\n",
        "# 1. 튜플과 리스트\n",
        "# 여러 자료형을 집합 형태로 담아서 관리 할 수 있게 만들어 준다.\n",
        "# 튜플은 리스트와 비슷한 기능을 하는 시퀀스 임\n",
        "# 0부터 시작하는 인덱스에 항목을 저장\n",
        "# 리스트와 튜플의 차이점\n",
        "# 소괄호를 사용함\n",
        "# 튜플은 저장된 내용을 변경할 수 없음\n",
        "\n",
        "# 2. 튜플의 장점\n",
        "# 그럼 언제 튜플을 사용하는게 좋을까? 튜플을 사용하기 좋을때는 임시로 변수를 사용할때! \n",
        "# 리스트는 조금 더 복잡한 일을 할때 사용!\n",
        "# 튜플을 수정 가능하지 않게 저장하기 때문에 리스트와 비교하여 메모리 사용량과 성능측면에서 \n",
        "# 훨씬 단순하고 효과적\n",
        "# 임시변수를 선언할 때는 리스트보다는 튜플을 쓰는 것이 좋음\n",
        "# 3. 튜플 선언\n",
        "# 튜플은 좌변에 놓는 것으로 선언한다.\n",
        "# 괄호는 생략이 가능함.\n",
        "# 소괄호를 사용하여 소괄호 안에 자료(요소)를 담는다.\n",
        "# 각각의 자료(요소)를 구분하기 위해 ,(쉼표)를 사용 한다.\n",
        "# 리스트, 사전, 문자열 자료형에 대해 튜플 자료형으로 변경 할 수 있다.\n",
        "# 튜플 자료형을 생성할 때 소괄호를 생략하면서 생성할 수 있다.(Packing)\n",
        "# 튜플의 요소를 하나만 생성하는 경우 반드시 마지막에 ,(쉼표)를 사용해야 한다.\n",
        "# 4. 튜플 특징\n",
        "#   1. Sequence Type : 초기에 생성된 데이터의 순서를 유지하고\n",
        "#                      순서 번호(Index Number)에 의해 접근 가능\n",
        "#   2. Iterable Type : 반복 가능 자료형으로 for 반복문에 의해 사용\n",
        "#                      할 수 있는 자료형\n",
        "#   3. Immutation Type : 변경 불가능, 튜플 자료의 요소를 추가/수정/삭제\n",
        "#                        할 수 없다.\n",
        "# 5. Indexing(인덱싱)\n",
        "#   - Index 번호를 통해서 특정 요소에 접근 하기 위한 방법\n",
        "#   - Index 번호는 0번 부터 시작 한다.\n",
        "#   - Index 번호는 음수 값으로도 사용 가능하다.(역순으로 접근)\n",
        "#   - [] 대괄호 안에 Index 번호를 넣어서 접근 한다.\n",
        " \n",
        "# 6. Slicing(슬라이싱)\n",
        "#   - Index 번호를 통해서 특정 요소들에 접근 하기 위한 방법\n",
        "#   - Index 번호는 시작 번호, 끝 번호 형태로 사용해야 한다.\n",
        "#   - 끝 번호는 항상 -1 요소 까지 접근 한다.\n",
        "#   - [시작번호:끝번호] 대괄호 안에 Index 번호를 넣어서 접근 한다.\n",
        " \n",
        "#   - 시작번호는 생략 할 수 있으며, 생략하는 경우 0번으로 쓰인다.\n",
        "#   - 끝번호는 생략 할 수 있으며, 생략하는 경우 가장 마지막 요소\n",
        "#     까지 접근 한다.\n",
        "#   - 음수 값으로도 접근 가능하다.\n",
        "#   - [시작번호:끝번호:step] step 값 만큼 건너 띄어서 접근 가능\n"
      ],
      "metadata": {
        "id": "scntMUsVnXef"
      },
      "execution_count": null,
      "outputs": []
    },
    {
      "cell_type": "code",
      "source": [
        "# tuple은 immutable이다.\n",
        "tuple_1 = ('God','is','love')\n",
        "print(f'tuple_1[0] ==> {tuple_1[0]}')\n",
        "\n",
        "tuple_1[0] = 'Jesus' # 변경할 수 없음\n",
        "\n",
        "print(f'tuple_1 ==> {tuple_1}')\n",
        "print(f'len(tuple_1) ==> {len(tuple_1)}')"
      ],
      "metadata": {
        "id": "Hiy4u4Awoore"
      },
      "execution_count": null,
      "outputs": []
    },
    {
      "cell_type": "code",
      "source": [
        "# 빈 tuple 생성과 자료형 확인하기\n",
        "tuple_1 = ()\n",
        "print(tuple_1,type(tuple_1)) # <class 'tuple'>"
      ],
      "metadata": {
        "id": "lFj67HQHotmu"
      },
      "execution_count": null,
      "outputs": []
    },
    {
      "cell_type": "code",
      "source": [
        "# 요소가 있는 tuple 생성 및 자료형 확인하기\n",
        "tuple_1 = (1,2,3,4) \n",
        "print(type(tuple_1)) # <class 'tuple'>\n",
        "print(tuple_1) # (1, 2, 3, 4)"
      ],
      "metadata": {
        "colab": {
          "base_uri": "https://localhost:8080/"
        },
        "id": "C8wkUKanpQyW",
        "outputId": "30f7a617-5c5e-4266-b639-ed7bfafa9572"
      },
      "execution_count": null,
      "outputs": [
        {
          "output_type": "stream",
          "name": "stdout",
          "text": [
            "<class 'tuple'>\n",
            "(1, 2, 3, 4)\n"
          ]
        }
      ]
    },
    {
      "cell_type": "code",
      "source": [
        "# list자료형을 tuple 자료형으로 변환하기\n",
        "tuple_1 = tuple([1,2,3,4])\n",
        "print(type(tuple_1)) # <class 'tuple'>\n",
        "print(tuple_1) # (1, 2, 3, 4)"
      ],
      "metadata": {
        "id": "Aax39mlKpep9"
      },
      "execution_count": null,
      "outputs": []
    },
    {
      "cell_type": "code",
      "source": [
        "# slicing\n",
        "tuple_1 = (1, 2, 3, 4, 5, 6, 7)\n",
        "print(tuple_1[0],tuple_1[-1]) # 1,  7\n",
        "print(tuple_1[0:3]) # (1, 2, 3)\n",
        "print(tuple_1[:3]) # (1, 2, 3)\n",
        "print(tuple_1[3:]) # (4, 5, 6, 7)\n",
        "print(tuple_1[3:-1]) # (4, 5, 6)\n",
        "print(tuple_1[-1]) # 7\n",
        "print(tuple_1[-2]) # 6\n",
        "print(tuple_1[-3:]) # (5, 6, 7)\n",
        "print(tuple_1[:-3]) # (1, 2, 3, 4)"
      ],
      "metadata": {
        "id": "waka-P0qpvm2"
      },
      "execution_count": null,
      "outputs": []
    },
    {
      "cell_type": "code",
      "source": [
        "# tuple의 Unpacking\n",
        "tuple_1 = (1, 2, 3)\n",
        "tuple_1_1,tuple_1_2,tuple_1_3 = tuple_1\n",
        "print(tuple_1_1,tuple_1_2,tuple_1_3) # 1 2 3"
      ],
      "metadata": {
        "id": "LZ4-v46jqUXk"
      },
      "execution_count": null,
      "outputs": []
    },
    {
      "cell_type": "code",
      "source": [
        "# tuple의 Unpacking\n",
        "tuple1,tuple2 = input('Enter three values : ').split()[0:2]\n",
        "print(f'tuple1 is {tuple1} and tuple2 is {tuple2}')"
      ],
      "metadata": {
        "id": "sSr4yuI2q-qt"
      },
      "execution_count": null,
      "outputs": []
    },
    {
      "cell_type": "code",
      "source": [
        "# 2차 tuple\n",
        "tuple_1 = ((1, 2, 3), (4, 5, 6),(7, 8, 9))\n",
        "print(tuple_1[0]);print(tuple_1[1]);print(tuple_1[2])\n",
        "print(tuple_1[0][0]);print(tuple_1[1][1]);print(tuple_1[2][2])"
      ],
      "metadata": {
        "id": "6ytRUZ8krctV"
      },
      "execution_count": null,
      "outputs": []
    },
    {
      "cell_type": "code",
      "source": [
        "# tuple 함수 사용하기\n",
        "# 1. tuple count(value) functions\n",
        "tuple_1 = (1,2,3,1,2,1)\n",
        "print(tuple_1.count(1)) # 1의 요소가 3개 있다."
      ],
      "metadata": {
        "id": "xLElvYqrr51s"
      },
      "execution_count": null,
      "outputs": []
    },
    {
      "cell_type": "code",
      "source": [
        "# 2. tuple index(start index,value) functions\n",
        "tuple_1 = (1,2,3,1,2,1)\n",
        "print(tuple_1.index(1)) # 0\n",
        "print(tuple_1.index(1,1)) # 3"
      ],
      "metadata": {
        "id": "8D8-hAbOsI2k"
      },
      "execution_count": null,
      "outputs": []
    },
    {
      "cell_type": "code",
      "source": [
        "# 3. tuple length functions\n",
        "tuple_1 = ('c','d','a','e','b')\n",
        "print(len(tuple_1)) # 5"
      ],
      "metadata": {
        "id": "aWkQG-hhsWFV"
      },
      "execution_count": null,
      "outputs": []
    },
    {
      "cell_type": "code",
      "source": [
        "# 4. tuple concatenate\n",
        "tuple_1 = (1,2,3)\n",
        "tuple_2 = (4,5,6)\n",
        "tuple_3 = tuple_1 + tuple_2\n",
        "print(tuple_3) # (1, 2, 3, 4, 5, 6)"
      ],
      "metadata": {
        "colab": {
          "base_uri": "https://localhost:8080/"
        },
        "id": "q2cJhtDYse5L",
        "outputId": "d3dd2f83-ba49-494d-ce3d-35f24fe506d9"
      },
      "execution_count": null,
      "outputs": [
        {
          "output_type": "stream",
          "name": "stdout",
          "text": [
            "(1, 2, 3, 4, 5, 6)\n"
          ]
        }
      ]
    },
    {
      "cell_type": "code",
      "source": [
        "# 5. tuple methods\n",
        "tuple_1 = ()\n",
        "print(dir(tuple_1))"
      ],
      "metadata": {
        "colab": {
          "base_uri": "https://localhost:8080/"
        },
        "id": "KEzRotfkspvc",
        "outputId": "f2176943-58fb-4297-e346-1d20d0c23e4a"
      },
      "execution_count": null,
      "outputs": [
        {
          "output_type": "stream",
          "name": "stdout",
          "text": [
            "['__add__', '__class__', '__contains__', '__delattr__', '__dir__', '__doc__', '__eq__', '__format__', '__ge__', '__getattribute__', '__getitem__', '__getnewargs__', '__gt__', '__hash__', '__init__', '__init_subclass__', '__iter__', '__le__', '__len__', '__lt__', '__mul__', '__ne__', '__new__', '__reduce__', '__reduce_ex__', '__repr__', '__rmul__', '__setattr__', '__sizeof__', '__str__', '__subclasshook__', 'count', 'index']\n"
          ]
        }
      ]
    },
    {
      "cell_type": "code",
      "source": [
        "# tuple 내장 함수 이용하기\n",
        "tuple_1 = (1, 2, 3, 4, 5)\n",
        "print(f'The sum of numbers within tuple_1 is {sum(tuple_1)}.')\n",
        "print(f'The max of numbers within tuple_1 is {max(tuple_1)}.')\n",
        "print(f'The min of numbers within tuple_1 is {min(tuple_1)}.')\n",
        "print(f'The average of numbers within tuple_1 is {sum(tuple_1)//len(tuple_1)}.')"
      ],
      "metadata": {
        "id": "q5MNFFyOs02V"
      },
      "execution_count": null,
      "outputs": []
    },
    {
      "cell_type": "code",
      "source": [
        "# 1. 튜플 함수의 count 함수와 동일한 기능을 수행할 수 있는 코드를 작성 하시오.\n",
        "# count 함수를 사용하지 않고도 튜플 자료의 요소 수를 카운트하는 코드를 작성 하시오.\n",
        " \n",
        "tuple_1 = (1, 2, 3, 4, 1, 2, 3, 1, 2, 1)\n",
        "value = int(input('Enter the value that you want counting: '))\n",
        "cnt = 0\n",
        " \n",
        "for x in tuple_1:\n",
        "  if x == value:\n",
        "    cnt = cnt + 1\n",
        "else:\n",
        "  print(cnt)"
      ],
      "metadata": {
        "id": "mzbXveZCtUM8"
      },
      "execution_count": null,
      "outputs": []
    },
    {
      "cell_type": "code",
      "source": [
        "# 2. 사용자로 부터, 찾을 문자열과 인덱스 시작 번호를 받아서, index의 위치 값을 출력하세요. \n",
        "# index 함수를 사용하지 않고도 튜플 자료의 index 번호를 알아낼수 있는 코드를  작성 하시오. \n",
        "# 단, tuple_1 = ('g','o','d','i','s','l','o','v','e') 사용하세요\n",
        " \n",
        "tuple_1 = ('godislove')\n",
        "target,s_idx = input(\"The target char? The index number? \").split()\n",
        "\n",
        "s_idx = int(s_idx)\n",
        "for x in tuple_1[s_idx:]:\n",
        "  if x == target:\n",
        "    print(s_idx)\n",
        "  s_idx += 1"
      ],
      "metadata": {
        "id": "esBdLzRWuBul"
      },
      "execution_count": null,
      "outputs": []
    },
    {
      "cell_type": "code",
      "source": [
        "# 3. index 함수는 오직 하나의 index 번호만을 알아낼수 있는 함수이다.\n",
        "# 원하는 value가  한 리스트 내에 여러개 있을때 이를 모두 구하고 싶다. 코드하세요.\n",
        "# 단, tuple_1 = (1, 3, 4, 3, 6, 7,1, 3, 4, 3, 6, 7) 사용하세요.\n",
        " \n",
        "tuple_1 = (1, 3, 4, 3, 6, 7, 1, 3, 4, 3, 6, 7)\n",
        "num = int(input('Enter the value that you want index poison: '))\n",
        "idx_posion = [i for i, value in enumerate(tuple_1) if value == num]\n",
        "print(f'New indices list : {idx_posion}')\n",
        "# New indices list : [1, 3, 7, 9]"
      ],
      "metadata": {
        "colab": {
          "base_uri": "https://localhost:8080/"
        },
        "id": "mbddaKI-uxI1",
        "outputId": "bb005f10-445c-4682-8150-79a3925c3b03"
      },
      "execution_count": null,
      "outputs": [
        {
          "output_type": "stream",
          "name": "stdout",
          "text": [
            "Enter the value that you want index poison: 1\n",
            "New indices list : [0, 6]\n"
          ]
        }
      ]
    },
    {
      "cell_type": "code",
      "source": [
        "# item tuple를 이용하여 다음 아래와 같은 형태로 출력될 수 있도록 코드를 완성하세요.\n",
        "#           SXXS Menu\n",
        "# ==============================\n",
        "# Menu      tall   grande venti\n",
        "# ==============================\n",
        "# Coldblue  5000   5500   6000\n",
        "# Americano 4100   4600   5100\n",
        "# Cafelatte 4600   5100   5600\n",
        " \n",
        "item = (\n",
        "    ('Menu', 'tall', 'grande', 'venti'),\n",
        "    ('Coldblue', 5000, 5500, 6000),\n",
        "    ('Americano', 4100, 4600, 5100),\n",
        "    ('Cafelatte', 4600, 5100, 5600),\n",
        ")\n",
        " \n",
        " \n",
        "store_name = 'SXXS Menu'\n",
        "print(store_name.center(30))\n",
        "print('=' * 30)\n",
        "for idx in range((len(item))):\n",
        "  if idx == 1:\n",
        "    print('=' * 30)\n",
        "  print('{:<10}{:<7}{:<7}{:<7}'.format(*item[idx]))"
      ],
      "metadata": {
        "colab": {
          "base_uri": "https://localhost:8080/"
        },
        "id": "PSDIv-sevkvr",
        "outputId": "e4712c77-0f73-4434-a2a5-4a01d2b45bee"
      },
      "execution_count": null,
      "outputs": [
        {
          "output_type": "stream",
          "name": "stdout",
          "text": [
            "          SXXS Menu           \n",
            "==============================\n",
            "Menu      tall   grande venti  \n",
            "==============================\n",
            "Coldblue  5000   5500   6000   \n",
            "Americano 4100   4600   5100   \n",
            "Cafelatte 4600   5100   5600   \n"
          ]
        }
      ]
    }
  ]
}